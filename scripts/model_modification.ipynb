{
 "cells": [
  {
   "cell_type": "code",
   "execution_count": 1,
   "id": "0f9fce40",
   "metadata": {},
   "outputs": [],
   "source": [
    "import pandas as pd\n",
    "import numpy as np\n",
    "import matplotlib.pyplot as plt\n",
    "import warnings\n",
    "warnings.filterwarnings('ignore')"
   ]
  },
  {
   "cell_type": "markdown",
   "id": "cf37139e",
   "metadata": {},
   "source": [
    "# Data import"
   ]
  },
  {
   "cell_type": "code",
   "execution_count": 2,
   "id": "71b34cfd",
   "metadata": {},
   "outputs": [],
   "source": [
    "chembl_32 = pd.read_excel('ChEMBL_32_documents.xlsx', sheet_name='Sheet1').drop_duplicates(subset='document_chembl_id')"
   ]
  },
  {
   "cell_type": "code",
   "execution_count": 3,
   "id": "aa1ab678",
   "metadata": {},
   "outputs": [],
   "source": [
    "data_chembl = pd.read_csv('ChEMBL_reference.csv', sep=',')\n",
    "data_chembl = data_chembl.drop_duplicates(subset='document_chembl_id').reset_index(drop=True)"
   ]
  },
  {
   "cell_type": "code",
   "execution_count": 4,
   "id": "11d528e0",
   "metadata": {},
   "outputs": [],
   "source": [
    "chembl_32_merged = pd.merge(chembl_32, data_chembl, how='left')\n",
    "data_chembl_core = chembl_32_merged.dropna(subset='PUBMED_TYPE')"
   ]
  },
  {
   "cell_type": "code",
   "execution_count": 5,
   "id": "b8d40d4f",
   "metadata": {},
   "outputs": [],
   "source": [
    "core_journals = ['ACS Med Chem Lett', 'Bioorg Med Chem', 'Bioorg Med Chem Lett', 'Eur J Med Chem', 'J Med Chem',\n",
    "                 'J Nat Prod', 'Medchemcomm']\n",
    "data_chembl_core = data_chembl_core[data_chembl_core['journal'].isin(core_journals)].reset_index(drop=True)\n",
    "data_chembl_unclass = pd.concat([chembl_32_merged, data_chembl_core], axis=0).drop_duplicates(keep=False).reset_index(\n",
    "    drop=True)"
   ]
  },
  {
   "cell_type": "code",
   "execution_count": 6,
   "id": "3d75d436",
   "metadata": {},
   "outputs": [],
   "source": [
    "data_from_pubmed = pd.read_excel('data_from_pubmed.xlsx', sheet_name='core journals').drop_duplicates(\n",
    "    subset='PMID').reset_index(drop=True)\n",
    "data_from_pubmed_refs = pd.read_csv('pubmed_reference.csv', sep=',')\n",
    "data_from_pubmed = pd.concat([data_from_pubmed, data_from_pubmed_refs], axis=1)"
   ]
  },
  {
   "cell_type": "markdown",
   "id": "c584bc42",
   "metadata": {},
   "source": [
    "# Data preprocessing (pubmed data)"
   ]
  },
  {
   "cell_type": "code",
   "execution_count": 7,
   "id": "6c017d05",
   "metadata": {},
   "outputs": [],
   "source": [
    "abstracts_pubmed = pd.read_excel('abstracts_pubmed.xlsx', sheet_name='abstracts')\n",
    "abstracts_pubmed = abstracts_pubmed.iloc[:, 0]\n",
    "data_from_pubmed['abstract'] = abstracts_pubmed"
   ]
  },
  {
   "cell_type": "code",
   "execution_count": 8,
   "id": "05255934",
   "metadata": {},
   "outputs": [],
   "source": [
    "data_from_pubmed_main = data_from_pubmed[\n",
    "    ['PMID', 'Publication Year', 'Authors', 'page1', 'page2', 'Journal/Book', 'reference', 'Title', 'abstract',\n",
    "     'pubtype ']]\n",
    "\n",
    "unique_journals = data_from_pubmed_main['Journal/Book'].unique()\n",
    "for journal in unique_journals:\n",
    "    data_from_pubmed_main['journal_' + str(journal)] = data_from_pubmed_main['Journal/Book'] == journal\n",
    "\n",
    "data_from_pubmed_main.replace(True, 1, inplace=True)\n",
    "data_from_pubmed_main.replace(False, 0, inplace=True)"
   ]
  },
  {
   "cell_type": "code",
   "execution_count": 9,
   "id": "fad057c0",
   "metadata": {},
   "outputs": [],
   "source": [
    "data_from_pubmed_main['pages'] = data_from_pubmed_main['page2'] - data_from_pubmed_main['page1']\n",
    "\n",
    "auth_num = []\n",
    "auth = data_from_pubmed_main['Authors'].values\n",
    "\n",
    "for string in auth:\n",
    "    auth_num.append(str(string).count(',') + 1)\n",
    "data_from_pubmed_main['auth_num'] = np.array(auth_num)"
   ]
  },
  {
   "cell_type": "code",
   "execution_count": 10,
   "id": "1557e548",
   "metadata": {},
   "outputs": [],
   "source": [
    "pubmed_data = {'pubmed_id': data_from_pubmed_main['PMID'].values,\n",
    "               'pages': np.log(data_from_pubmed_main.pages.values + 1),\n",
    "               'year': data_from_pubmed_main['Publication Year'].values,\n",
    "               'auth_num': np.log(data_from_pubmed_main.auth_num.values + 1),\n",
    "               'reference': np.log(data_from_pubmed_main.reference.values + 1),\n",
    "               'journal_Medchemcomm': data_from_pubmed_main['journal_Medchemcomm'].values,\n",
    "               'journal_J Nat Prod': data_from_pubmed_main['journal_J Nat Prod'].values,\n",
    "               'journal_J Med Chem': data_from_pubmed_main['journal_J Med Chem'].values,\n",
    "               'journal_Eur J Med Chem': data_from_pubmed_main['journal_Eur J Med Chem'].values,\n",
    "               'journal_Bioorg Med Chem Lett': data_from_pubmed_main['journal_Bioorg Med Chem Lett'].values,\n",
    "               'journal_Bioorg Med Chem': data_from_pubmed_main['journal_Bioorg Med Chem'].values,\n",
    "               'journal_ACS Med Chem Lett': data_from_pubmed_main['journal_ACS Med Chem Lett'].values,}\n",
    "\n",
    "pubmed_df = pd.DataFrame(pubmed_data)"
   ]
  },
  {
   "cell_type": "markdown",
   "id": "08a24412",
   "metadata": {},
   "source": [
    "# Data preprocessing (ChEMBL data)"
   ]
  },
  {
   "cell_type": "code",
   "execution_count": 11,
   "id": "7fa35e0d",
   "metadata": {},
   "outputs": [],
   "source": [
    "data_chembl_core_main = data_chembl_core[\n",
    "    ['pubmed_id', 'year', 'authors', 'first_page', 'last_page', 'journal', 'references', 'title', 'abstract',\n",
    "     'PUBMED_TYPE']]\n",
    "data_chembl_unclass_main = data_chembl_unclass[\n",
    "    ['pubmed_id', 'year', 'authors', 'first_page', 'last_page', 'journal', 'references', 'title', 'abstract',\n",
    "     'PUBMED_TYPE']]"
   ]
  },
  {
   "cell_type": "code",
   "execution_count": 12,
   "id": "51d754d6",
   "metadata": {},
   "outputs": [],
   "source": [
    "for journal in unique_journals:\n",
    "    data_chembl_core_main['journal_' + str(journal)] = data_chembl_core_main['journal'] == journal\n",
    "    data_chembl_unclass_main['journal_' + str(journal)] = data_chembl_unclass_main['journal'] == journal\n",
    "data_chembl_core_main.replace(True, 1, inplace=True)\n",
    "data_chembl_core_main.replace(False, 0, inplace=True)\n",
    "data_chembl_unclass_main.replace(True, 1, inplace=True)\n",
    "data_chembl_unclass_main.replace(False, 0, inplace=True)"
   ]
  },
  {
   "cell_type": "code",
   "execution_count": 13,
   "id": "e19e4575",
   "metadata": {},
   "outputs": [],
   "source": [
    "data_chembl_core_main['pages'] = data_chembl_core_main['last_page'] - data_chembl_core_main['first_page']\n",
    "\n",
    "auth_num = []\n",
    "auth = data_chembl_core_main['authors'].values\n",
    "\n",
    "for string in auth:\n",
    "    auth_num.append(str(string).count(',') + 1)\n",
    "data_chembl_core_main['auth_num'] = np.array(auth_num)"
   ]
  },
  {
   "cell_type": "code",
   "execution_count": 14,
   "id": "8852ad98",
   "metadata": {},
   "outputs": [],
   "source": [
    "data_chembl_unclass_main['pages'] = data_chembl_unclass_main['last_page'] - data_chembl_unclass_main['first_page']\n",
    "\n",
    "auth_num = []\n",
    "auth = data_chembl_unclass_main['authors'].values\n",
    "\n",
    "for string in auth:\n",
    "    auth_num.append(str(string).count(',') + 1)\n",
    "data_chembl_unclass_main['auth_num'] = np.array(auth_num)"
   ]
  },
  {
   "cell_type": "code",
   "execution_count": 15,
   "id": "098498b8",
   "metadata": {},
   "outputs": [],
   "source": [
    "chembl_core_data = {'pubmed_id': data_chembl_core_main['pubmed_id'].values,\n",
    "                    'pages': np.log(data_chembl_core_main.pages.values + 1),\n",
    "                    'year': data_chembl_core_main['year'].values,\n",
    "                    'auth_num': np.log(data_chembl_core_main.auth_num.values + 1),\n",
    "                    'reference': np.log(data_chembl_core_main.references.values + 1),\n",
    "                    'journal_Medchemcomm': data_chembl_core_main['journal_Medchemcomm'].values,\n",
    "                    'journal_J Nat Prod': data_chembl_core_main['journal_J Nat Prod'].values,\n",
    "                    'journal_J Med Chem': data_chembl_core_main['journal_J Med Chem'].values,\n",
    "                    'journal_Eur J Med Chem': data_chembl_core_main['journal_Eur J Med Chem'].values,\n",
    "                    'journal_Bioorg Med Chem Lett': data_chembl_core_main['journal_Bioorg Med Chem Lett'].values,\n",
    "                    'journal_Bioorg Med Chem': data_chembl_core_main['journal_Bioorg Med Chem'].values,\n",
    "                    'journal_ACS Med Chem Lett': data_chembl_core_main['journal_ACS Med Chem Lett'].values}\n",
    "\n",
    "chembl_core_df = pd.DataFrame(chembl_core_data)"
   ]
  },
  {
   "cell_type": "code",
   "execution_count": 16,
   "id": "5621d94c",
   "metadata": {},
   "outputs": [],
   "source": [
    "chembl_unclass_data = {'pubmed_id': data_chembl_unclass_main['pubmed_id'].values,\n",
    "                       'pages': np.log(data_chembl_unclass_main.pages.values + 1),\n",
    "                       'year': data_chembl_unclass_main['year'].values,\n",
    "                       'auth_num': np.log(data_chembl_unclass_main.auth_num.values + 1),\n",
    "                       'reference': np.log(data_chembl_unclass_main.references.values + 1),\n",
    "                       'journal_Medchemcomm': data_chembl_unclass_main['journal_Medchemcomm'].values,\n",
    "                       'journal_J Nat Prod': data_chembl_unclass_main['journal_J Nat Prod'].values,\n",
    "                       'journal_J Med Chem': data_chembl_unclass_main['journal_J Med Chem'].values,\n",
    "                       'journal_Eur J Med Chem': data_chembl_unclass_main['journal_Eur J Med Chem'].values,\n",
    "                       'journal_Bioorg Med Chem Lett': data_chembl_unclass_main['journal_Bioorg Med Chem Lett'].values,\n",
    "                       'journal_Bioorg Med Chem': data_chembl_unclass_main['journal_Bioorg Med Chem'].values,\n",
    "                       'journal_ACS Med Chem Lett': data_chembl_unclass_main['journal_ACS Med Chem Lett'].values}\n",
    "\n",
    "chembl_unclass_df = pd.DataFrame(chembl_unclass_data)"
   ]
  },
  {
   "cell_type": "code",
   "execution_count": 17,
   "id": "25c2d6ce",
   "metadata": {},
   "outputs": [],
   "source": [
    "pubmed_df['class'] = data_from_pubmed_main['pubtype '].values\n",
    "chembl_core_df['class'] = data_chembl_core_main.PUBMED_TYPE.values\n",
    "chembl_unclass_df['class'] = data_chembl_unclass_main.PUBMED_TYPE.values\n",
    "\n",
    "pubmed_df['title'] = data_from_pubmed_main.Title.values\n",
    "chembl_core_df['title'] = data_chembl_core_main.title.values\n",
    "chembl_unclass_df['title'] = data_chembl_unclass_main.title.values\n",
    "\n",
    "pubmed_df['abstract'] = data_from_pubmed_main.abstract.values\n",
    "chembl_core_df['abstract'] = data_chembl_core_main.abstract.values\n",
    "chembl_unclass_df['abstract'] = data_chembl_unclass_main.abstract.values"
   ]
  },
  {
   "cell_type": "code",
   "execution_count": 18,
   "id": "72c16c00",
   "metadata": {},
   "outputs": [],
   "source": [
    "classified_df = pd.concat([pubmed_df, chembl_core_df], axis=0).drop_duplicates(subset='pubmed_id').reset_index(\n",
    "    drop=True)\n",
    "\n",
    "unique_class = classified_df['class'].unique()\n",
    "for cl in unique_class:\n",
    "    if cl == 'Review':\n",
    "        classified_df['class'].replace(cl, 1, inplace=True)\n",
    "    else:\n",
    "        classified_df['class'].replace(cl, 0, inplace=True)"
   ]
  },
  {
   "cell_type": "code",
   "execution_count": 19,
   "id": "08ea4cf8",
   "metadata": {},
   "outputs": [],
   "source": [
    "array_of_mistakes = np.array([26985286, 35059113, 35059117, 35178165, 35178167, 34606998, 35059114, \n",
    "                              35178166, 35059115, 35059116, 35178168, 35300084, 35300085])\n",
    "\n",
    "chembl_unclass_df.loc[chembl_unclass_df['pubmed_id'].isin(array_of_mistakes), 'abstract'] = np.nan"
   ]
  },
  {
   "cell_type": "markdown",
   "id": "399144b9",
   "metadata": {},
   "source": [
    "# PubmedBERT vectorisation"
   ]
  },
  {
   "cell_type": "code",
   "execution_count": 20,
   "id": "59a2b77d",
   "metadata": {},
   "outputs": [],
   "source": [
    "classified_df['abstract'].fillna('[MASK]', inplace=True)\n",
    "chembl_unclass_df['abstract'].fillna('[MASK]', inplace=True)"
   ]
  },
  {
   "cell_type": "code",
   "execution_count": 21,
   "id": "b16e99ff",
   "metadata": {},
   "outputs": [],
   "source": [
    "abstracts_X = list(classified_df['abstract'].values)\n",
    "titles_X = list(classified_df['title'].values)\n",
    "texts_X = [f\"{t1}. {t2}\" for t1, t2 in zip(titles_X, abstracts_X)]\n",
    "pd.DataFrame(texts_X).to_csv('title_abstract_texts_X.csv', index=False)"
   ]
  },
  {
   "cell_type": "code",
   "execution_count": 22,
   "id": "5c5f8992",
   "metadata": {},
   "outputs": [],
   "source": [
    "all_abstracts = chembl_unclass_df.abstract.values\n",
    "all_titles = chembl_unclass_df.title.values\n",
    "all_texts = [f\"{t1}. {t2}\" for t1, t2 in zip(all_titles, all_abstracts)]\n",
    "pd.DataFrame(all_texts).to_csv('title_abstract_texts_all.csv', index=False)"
   ]
  },
  {
   "cell_type": "code",
   "execution_count": 23,
   "id": "513411a7",
   "metadata": {},
   "outputs": [],
   "source": [
    "cls_X_matrix_pubmed = pd.read_csv('cls_X_matrix_pubmedbert.csv', sep=',')\n",
    "cls_all_matrix_pubmed = pd.read_csv('cls_all_matrix_pubmedbert.csv', sep=',')"
   ]
  },
  {
   "cell_type": "code",
   "execution_count": 24,
   "id": "d21268ea",
   "metadata": {},
   "outputs": [],
   "source": [
    "classified_df_vect_pubmed = pd.concat([classified_df, cls_X_matrix_pubmed], axis=1)\n",
    "classified_df_vect_pubmed = classified_df_vect_pubmed.drop(columns=['title', 'abstract'])\n",
    "classified_df_vect_pubmed.pages.replace(0, None, inplace=True)\n",
    "classified_df_vect_pubmed.reference.replace(0, None, inplace=True)"
   ]
  },
  {
   "cell_type": "code",
   "execution_count": 25,
   "id": "71a6325c",
   "metadata": {},
   "outputs": [],
   "source": [
    "unclassified_df_vect_pubmed = pd.concat([chembl_unclass_df, cls_all_matrix_pubmed], axis=1)\n",
    "unclassified_df_vect_pubmed = unclassified_df_vect_pubmed.drop(columns=['title', 'abstract'])\n",
    "unclassified_df_vect_pubmed.pages.replace(0, None, inplace=True)\n",
    "unclassified_df_vect_pubmed.reference.replace(0, None, inplace=True)"
   ]
  },
  {
   "cell_type": "markdown",
   "id": "8761cf18",
   "metadata": {},
   "source": [
    "# Model training"
   ]
  },
  {
   "cell_type": "code",
   "execution_count": 26,
   "id": "5dcafbbf",
   "metadata": {},
   "outputs": [],
   "source": [
    "from sklearn.metrics import f1_score, recall_score, precision_score, accuracy_score, confusion_matrix, roc_curve, auc\n",
    "from sklearn.model_selection import RandomizedSearchCV\n",
    "from sklearn.pipeline import Pipeline\n",
    "from sklearn.model_selection import train_test_split, cross_val_score\n",
    "import xgboost as xgb\n",
    "import scipy.stats as stats\n",
    "import seaborn as sns\n",
    "import matplotlib.pyplot as plt"
   ]
  },
  {
   "cell_type": "code",
   "execution_count": 27,
   "id": "bc1fd339",
   "metadata": {},
   "outputs": [
    {
     "name": "stdout",
     "output_type": "stream",
     "text": [
      "Fitting 5 folds for each of 10 candidates, totalling 50 fits\n",
      "[CV 1/5; 1/10] START learning_rate=0.03845401188473625, max_depth=7, n_estimators=64, subsample=0.8123957592679836\n",
      "[CV 1/5; 1/10] END learning_rate=0.03845401188473625, max_depth=7, n_estimators=64, subsample=0.8123957592679836;, score=0.968 total time=   7.1s\n",
      "[CV 2/5; 1/10] START learning_rate=0.03845401188473625, max_depth=7, n_estimators=64, subsample=0.8123957592679836\n",
      "[CV 2/5; 1/10] END learning_rate=0.03845401188473625, max_depth=7, n_estimators=64, subsample=0.8123957592679836;, score=0.968 total time=   6.8s\n",
      "[CV 3/5; 1/10] START learning_rate=0.03845401188473625, max_depth=7, n_estimators=64, subsample=0.8123957592679836\n",
      "[CV 3/5; 1/10] END learning_rate=0.03845401188473625, max_depth=7, n_estimators=64, subsample=0.8123957592679836;, score=0.959 total time=   6.9s\n",
      "[CV 4/5; 1/10] START learning_rate=0.03845401188473625, max_depth=7, n_estimators=64, subsample=0.8123957592679836\n",
      "[CV 4/5; 1/10] END learning_rate=0.03845401188473625, max_depth=7, n_estimators=64, subsample=0.8123957592679836;, score=0.964 total time=   6.7s\n",
      "[CV 5/5; 1/10] START learning_rate=0.03845401188473625, max_depth=7, n_estimators=64, subsample=0.8123957592679836\n",
      "[CV 5/5; 1/10] END learning_rate=0.03845401188473625, max_depth=7, n_estimators=64, subsample=0.8123957592679836;, score=0.964 total time=   6.9s\n",
      "[CV 1/5; 2/10] START learning_rate=0.06086584841970366, max_depth=9, n_estimators=171, subsample=0.40919616423534183\n",
      "[CV 1/5; 2/10] END learning_rate=0.06086584841970366, max_depth=9, n_estimators=171, subsample=0.40919616423534183;, score=0.971 total time=  15.2s\n",
      "[CV 2/5; 2/10] START learning_rate=0.06086584841970366, max_depth=9, n_estimators=171, subsample=0.40919616423534183\n",
      "[CV 2/5; 2/10] END learning_rate=0.06086584841970366, max_depth=9, n_estimators=171, subsample=0.40919616423534183;, score=0.974 total time=  14.8s\n",
      "[CV 3/5; 2/10] START learning_rate=0.06086584841970366, max_depth=9, n_estimators=171, subsample=0.40919616423534183\n",
      "[CV 3/5; 2/10] END learning_rate=0.06086584841970366, max_depth=9, n_estimators=171, subsample=0.40919616423534183;, score=0.971 total time=  14.5s\n",
      "[CV 4/5; 2/10] START learning_rate=0.06086584841970366, max_depth=9, n_estimators=171, subsample=0.40919616423534183\n",
      "[CV 4/5; 2/10] END learning_rate=0.06086584841970366, max_depth=9, n_estimators=171, subsample=0.40919616423534183;, score=0.969 total time=  14.5s\n",
      "[CV 5/5; 2/10] START learning_rate=0.06086584841970366, max_depth=9, n_estimators=171, subsample=0.40919616423534183\n",
      "[CV 5/5; 2/10] END learning_rate=0.06086584841970366, max_depth=9, n_estimators=171, subsample=0.40919616423534183;, score=0.976 total time=  14.3s\n",
      "[CV 1/5; 3/10] START learning_rate=0.006808361216819946, max_depth=7, n_estimators=149, subsample=0.40000677254535855\n",
      "[CV 1/5; 3/10] END learning_rate=0.006808361216819946, max_depth=7, n_estimators=149, subsample=0.40000677254535855;, score=0.958 total time=  12.4s\n",
      "[CV 2/5; 3/10] START learning_rate=0.006808361216819946, max_depth=7, n_estimators=149, subsample=0.40000677254535855\n",
      "[CV 2/5; 3/10] END learning_rate=0.006808361216819946, max_depth=7, n_estimators=149, subsample=0.40000677254535855;, score=0.957 total time=  12.2s\n",
      "[CV 3/5; 3/10] START learning_rate=0.006808361216819946, max_depth=7, n_estimators=149, subsample=0.40000677254535855\n",
      "[CV 3/5; 3/10] END learning_rate=0.006808361216819946, max_depth=7, n_estimators=149, subsample=0.40000677254535855;, score=0.956 total time=  12.4s\n",
      "[CV 4/5; 3/10] START learning_rate=0.006808361216819946, max_depth=7, n_estimators=149, subsample=0.40000677254535855\n",
      "[CV 4/5; 3/10] END learning_rate=0.006808361216819946, max_depth=7, n_estimators=149, subsample=0.40000677254535855;, score=0.952 total time=  12.5s\n",
      "[CV 5/5; 3/10] START learning_rate=0.006808361216819946, max_depth=7, n_estimators=149, subsample=0.40000677254535855\n",
      "[CV 5/5; 3/10] END learning_rate=0.006808361216819946, max_depth=7, n_estimators=149, subsample=0.40000677254535855;, score=0.941 total time=  12.5s\n",
      "[CV 1/5; 4/10] START learning_rate=0.06608884729488529, max_depth=7, n_estimators=51, subsample=0.8053991405867773\n",
      "[CV 1/5; 4/10] END learning_rate=0.06608884729488529, max_depth=7, n_estimators=51, subsample=0.8053991405867773;, score=0.968 total time=   5.8s\n",
      "[CV 2/5; 4/10] START learning_rate=0.06608884729488529, max_depth=7, n_estimators=51, subsample=0.8053991405867773\n",
      "[CV 2/5; 4/10] END learning_rate=0.06608884729488529, max_depth=7, n_estimators=51, subsample=0.8053991405867773;, score=0.971 total time=   5.7s\n",
      "[CV 3/5; 4/10] START learning_rate=0.06608884729488529, max_depth=7, n_estimators=51, subsample=0.8053991405867773\n",
      "[CV 3/5; 4/10] END learning_rate=0.06608884729488529, max_depth=7, n_estimators=51, subsample=0.8053991405867773;, score=0.965 total time=   5.4s\n",
      "[CV 4/5; 4/10] START learning_rate=0.06608884729488529, max_depth=7, n_estimators=51, subsample=0.8053991405867773\n",
      "[CV 4/5; 4/10] END learning_rate=0.06608884729488529, max_depth=7, n_estimators=51, subsample=0.8053991405867773;, score=0.968 total time=   5.5s\n",
      "[CV 5/5; 4/10] START learning_rate=0.06608884729488529, max_depth=7, n_estimators=51, subsample=0.8053991405867773\n",
      "[CV 5/5; 4/10] END learning_rate=0.06608884729488529, max_depth=7, n_estimators=51, subsample=0.8053991405867773;, score=0.965 total time=   5.5s\n",
      "[CV 1/5; 5/10] START learning_rate=0.09485527090157503, max_depth=4, n_estimators=70, subsample=0.7322370567394015\n",
      "[CV 1/5; 5/10] END learning_rate=0.09485527090157503, max_depth=4, n_estimators=70, subsample=0.7322370567394015;, score=0.971 total time=   4.3s\n",
      "[CV 2/5; 5/10] START learning_rate=0.09485527090157503, max_depth=4, n_estimators=70, subsample=0.7322370567394015\n",
      "[CV 2/5; 5/10] END learning_rate=0.09485527090157503, max_depth=4, n_estimators=70, subsample=0.7322370567394015;, score=0.974 total time=   4.2s\n",
      "[CV 3/5; 5/10] START learning_rate=0.09485527090157503, max_depth=4, n_estimators=70, subsample=0.7322370567394015\n",
      "[CV 3/5; 5/10] END learning_rate=0.09485527090157503, max_depth=4, n_estimators=70, subsample=0.7322370567394015;, score=0.973 total time=   4.2s\n",
      "[CV 4/5; 5/10] START learning_rate=0.09485527090157503, max_depth=4, n_estimators=70, subsample=0.7322370567394015\n",
      "[CV 4/5; 5/10] END learning_rate=0.09485527090157503, max_depth=4, n_estimators=70, subsample=0.7322370567394015;, score=0.970 total time=   4.2s\n",
      "[CV 5/5; 5/10] START learning_rate=0.09485527090157503, max_depth=4, n_estimators=70, subsample=0.7322370567394015\n",
      "[CV 5/5; 5/10] END learning_rate=0.09485527090157503, max_depth=4, n_estimators=70, subsample=0.7322370567394015;, score=0.971 total time=   4.2s\n",
      "[CV 1/5; 6/10] START learning_rate=0.06216531604882809, max_depth=7, n_estimators=138, subsample=0.5038603981386294\n",
      "[CV 1/5; 6/10] END learning_rate=0.06216531604882809, max_depth=7, n_estimators=138, subsample=0.5038603981386294;, score=0.975 total time=  11.7s\n",
      "[CV 2/5; 6/10] START learning_rate=0.06216531604882809, max_depth=7, n_estimators=138, subsample=0.5038603981386294\n",
      "[CV 2/5; 6/10] END learning_rate=0.06216531604882809, max_depth=7, n_estimators=138, subsample=0.5038603981386294;, score=0.972 total time=  11.8s\n",
      "[CV 3/5; 6/10] START learning_rate=0.06216531604882809, max_depth=7, n_estimators=138, subsample=0.5038603981386294\n",
      "[CV 3/5; 6/10] END learning_rate=0.06216531604882809, max_depth=7, n_estimators=138, subsample=0.5038603981386294;, score=0.974 total time=  11.7s\n",
      "[CV 4/5; 6/10] START learning_rate=0.06216531604882809, max_depth=7, n_estimators=138, subsample=0.5038603981386294\n",
      "[CV 4/5; 6/10] END learning_rate=0.06216531604882809, max_depth=7, n_estimators=138, subsample=0.5038603981386294;, score=0.973 total time=  11.8s\n",
      "[CV 5/5; 6/10] START learning_rate=0.06216531604882809, max_depth=7, n_estimators=138, subsample=0.5038603981386294\n",
      "[CV 5/5; 6/10] END learning_rate=0.06216531604882809, max_depth=7, n_estimators=138, subsample=0.5038603981386294;, score=0.972 total time=  11.6s\n",
      "[CV 1/5; 7/10] START learning_rate=0.06218528947223795, max_depth=4, n_estimators=64, subsample=0.619248988951925\n",
      "[CV 1/5; 7/10] END learning_rate=0.06218528947223795, max_depth=4, n_estimators=64, subsample=0.619248988951925;, score=0.970 total time=   4.2s\n",
      "[CV 2/5; 7/10] START learning_rate=0.06218528947223795, max_depth=4, n_estimators=64, subsample=0.619248988951925\n"
     ]
    },
    {
     "name": "stdout",
     "output_type": "stream",
     "text": [
      "[CV 2/5; 7/10] END learning_rate=0.06218528947223795, max_depth=4, n_estimators=64, subsample=0.619248988951925;, score=0.970 total time=   4.2s\n",
      "[CV 3/5; 7/10] START learning_rate=0.06218528947223795, max_depth=4, n_estimators=64, subsample=0.619248988951925\n",
      "[CV 3/5; 7/10] END learning_rate=0.06218528947223795, max_depth=4, n_estimators=64, subsample=0.619248988951925;, score=0.965 total time=   4.1s\n",
      "[CV 4/5; 7/10] START learning_rate=0.06218528947223795, max_depth=4, n_estimators=64, subsample=0.619248988951925\n",
      "[CV 4/5; 7/10] END learning_rate=0.06218528947223795, max_depth=4, n_estimators=64, subsample=0.619248988951925;, score=0.967 total time=   4.2s\n",
      "[CV 5/5; 7/10] START learning_rate=0.06218528947223795, max_depth=4, n_estimators=64, subsample=0.619248988951925\n",
      "[CV 5/5; 7/10] END learning_rate=0.06218528947223795, max_depth=4, n_estimators=64, subsample=0.619248988951925;, score=0.969 total time=   3.9s\n",
      "[CV 1/5; 8/10] START learning_rate=0.07951759613930137, max_depth=5, n_estimators=157, subsample=0.6599641068895281\n",
      "[CV 1/5; 8/10] END learning_rate=0.07951759613930137, max_depth=5, n_estimators=157, subsample=0.6599641068895281;, score=0.972 total time=  11.0s\n",
      "[CV 2/5; 8/10] START learning_rate=0.07951759613930137, max_depth=5, n_estimators=157, subsample=0.6599641068895281\n",
      "[CV 2/5; 8/10] END learning_rate=0.07951759613930137, max_depth=5, n_estimators=157, subsample=0.6599641068895281;, score=0.973 total time=  11.0s\n",
      "[CV 3/5; 8/10] START learning_rate=0.07951759613930137, max_depth=5, n_estimators=157, subsample=0.6599641068895281\n",
      "[CV 3/5; 8/10] END learning_rate=0.07951759613930137, max_depth=5, n_estimators=157, subsample=0.6599641068895281;, score=0.974 total time=  10.7s\n",
      "[CV 4/5; 8/10] START learning_rate=0.07951759613930137, max_depth=5, n_estimators=157, subsample=0.6599641068895281\n",
      "[CV 4/5; 8/10] END learning_rate=0.07951759613930137, max_depth=5, n_estimators=157, subsample=0.6599641068895281;, score=0.977 total time=  10.6s\n",
      "[CV 5/5; 8/10] START learning_rate=0.07951759613930137, max_depth=5, n_estimators=157, subsample=0.6599641068895281\n",
      "[CV 5/5; 8/10] END learning_rate=0.07951759613930137, max_depth=5, n_estimators=157, subsample=0.6599641068895281;, score=0.974 total time=  10.8s\n",
      "[CV 1/5; 9/10] START learning_rate=0.06024145688620425, max_depth=5, n_estimators=100, subsample=0.7762152770114458\n",
      "[CV 1/5; 9/10] END learning_rate=0.06024145688620425, max_depth=5, n_estimators=100, subsample=0.7762152770114458;, score=0.970 total time=   7.1s\n",
      "[CV 2/5; 9/10] START learning_rate=0.06024145688620425, max_depth=5, n_estimators=100, subsample=0.7762152770114458\n",
      "[CV 2/5; 9/10] END learning_rate=0.06024145688620425, max_depth=5, n_estimators=100, subsample=0.7762152770114458;, score=0.972 total time=   6.9s\n",
      "[CV 3/5; 9/10] START learning_rate=0.06024145688620425, max_depth=5, n_estimators=100, subsample=0.7762152770114458\n",
      "[CV 3/5; 9/10] END learning_rate=0.06024145688620425, max_depth=5, n_estimators=100, subsample=0.7762152770114458;, score=0.975 total time=   7.0s\n",
      "[CV 4/5; 9/10] START learning_rate=0.06024145688620425, max_depth=5, n_estimators=100, subsample=0.7762152770114458\n",
      "[CV 4/5; 9/10] END learning_rate=0.06024145688620425, max_depth=5, n_estimators=100, subsample=0.7762152770114458;, score=0.970 total time=   7.0s\n",
      "[CV 5/5; 9/10] START learning_rate=0.06024145688620425, max_depth=5, n_estimators=100, subsample=0.7762152770114458\n",
      "[CV 5/5; 9/10] END learning_rate=0.06024145688620425, max_depth=5, n_estimators=100, subsample=0.7762152770114458;, score=0.975 total time=   7.1s\n",
      "[CV 1/5; 10/10] START learning_rate=0.046049925196954306, max_depth=4, n_estimators=181, subsample=0.959541228979397\n",
      "[CV 1/5; 10/10] END learning_rate=0.046049925196954306, max_depth=4, n_estimators=181, subsample=0.959541228979397;, score=0.972 total time=  10.1s\n",
      "[CV 2/5; 10/10] START learning_rate=0.046049925196954306, max_depth=4, n_estimators=181, subsample=0.959541228979397\n",
      "[CV 2/5; 10/10] END learning_rate=0.046049925196954306, max_depth=4, n_estimators=181, subsample=0.959541228979397;, score=0.973 total time=  10.1s\n",
      "[CV 3/5; 10/10] START learning_rate=0.046049925196954306, max_depth=4, n_estimators=181, subsample=0.959541228979397\n",
      "[CV 3/5; 10/10] END learning_rate=0.046049925196954306, max_depth=4, n_estimators=181, subsample=0.959541228979397;, score=0.973 total time=  10.3s\n",
      "[CV 4/5; 10/10] START learning_rate=0.046049925196954306, max_depth=4, n_estimators=181, subsample=0.959541228979397\n",
      "[CV 4/5; 10/10] END learning_rate=0.046049925196954306, max_depth=4, n_estimators=181, subsample=0.959541228979397;, score=0.971 total time=  10.2s\n",
      "[CV 5/5; 10/10] START learning_rate=0.046049925196954306, max_depth=4, n_estimators=181, subsample=0.959541228979397\n",
      "[CV 5/5; 10/10] END learning_rate=0.046049925196954306, max_depth=4, n_estimators=181, subsample=0.959541228979397;, score=0.974 total time=  10.5s\n",
      "Best set of hyperparameters:  {'learning_rate': 0.07951759613930137, 'max_depth': 5, 'n_estimators': 157, 'subsample': 0.6599641068895281}\n",
      "Best score:  0.9742134837805987\n"
     ]
    }
   ],
   "source": [
    "X_train_pubmed, X_test_pubmed, y_train_pubmed, y_test_pubmed = train_test_split(\n",
    "    classified_df_vect_pubmed.drop(columns=['class', 'pubmed_id']), classified_df_vect_pubmed['class'], test_size=0.2,\n",
    "    random_state=42, stratify=classified_df_vect_pubmed['class'])\n",
    "\n",
    "import random\n",
    "\n",
    "np.random.seed(42)\n",
    "\n",
    "model = xgb.XGBClassifier()\n",
    "\n",
    "param_grid = {\n",
    "    'max_depth': stats.randint(3, 10),\n",
    "    'learning_rate': stats.uniform(0.001, 0.1),\n",
    "    'subsample': stats.uniform(0.3, 0.7),\n",
    "    'n_estimators': stats.randint(50, 200)\n",
    "}\n",
    "\n",
    "random_search_pubmed = RandomizedSearchCV(model, param_grid, cv=5, random_state=42, n_iter=10, scoring='f1', verbose=10)\n",
    "random_search_pubmed.fit(X_train_pubmed.astype(np.float64), y_train_pubmed)\n",
    "\n",
    "print(\"Best set of hyperparameters: \", random_search_pubmed.best_params_)\n",
    "print(\"Best score: \", random_search_pubmed.best_score_)"
   ]
  },
  {
   "cell_type": "code",
   "execution_count": 28,
   "id": "ddb5d95f",
   "metadata": {},
   "outputs": [
    {
     "name": "stdout",
     "output_type": "stream",
     "text": [
      "0.9800148038490007\n",
      "0.9844470046082949\n",
      "0.992503748125937\n",
      "0.9678362573099415\n",
      "[[1047    5]\n",
      " [  22  662]]\n"
     ]
    }
   ],
   "source": [
    "model_first = xgb.XGBClassifier(learning_rate=0.07951759613930137, max_depth=5, n_estimators=157,\n",
    "                                subsample=0.6599641068895281)\n",
    "model_first.fit(X_train_pubmed.astype(np.float64), y_train_pubmed)\n",
    "\n",
    "print(f1_score(y_test_pubmed, model_first.predict(X_test_pubmed.astype(np.float64))))\n",
    "print(accuracy_score(y_test_pubmed, model_first.predict(X_test_pubmed.astype(np.float64))))\n",
    "print(precision_score(y_test_pubmed, model_first.predict(X_test_pubmed.astype(np.float64))))\n",
    "print(recall_score(y_test_pubmed, model_first.predict(X_test_pubmed.astype(np.float64))))\n",
    "print(confusion_matrix(y_test_pubmed, model_first.predict(X_test_pubmed.astype(np.float64))))"
   ]
  },
  {
   "cell_type": "code",
   "execution_count": 29,
   "id": "49331a1f",
   "metadata": {},
   "outputs": [],
   "source": [
    "chembl_without_pubmed = pd.concat([classified_df_vect_pubmed, unclassified_df_vect_pubmed], axis=0).drop_duplicates(\n",
    "    subset='pubmed_id')\n",
    "chembl_32_toclass = pd.merge(chembl_32[['pubmed_id', 'document_chembl_id']], chembl_without_pubmed, how='left')\n",
    "\n",
    "classification_previous = model_first.predict(\n",
    "    chembl_32_toclass.drop(columns=['pubmed_id', 'document_chembl_id', 'class']).astype(np.float64))\n",
    "predictions_previous = model_first.predict_proba(\n",
    "    chembl_32_toclass.drop(columns=['pubmed_id', 'document_chembl_id', 'class']).astype(np.float64))\n",
    "classif_data_previous = {\n",
    "    'pubmed_id': chembl_32_toclass['pubmed_id'],\n",
    "    'document_chembl_id': chembl_32_toclass['document_chembl_id'],\n",
    "    'class': chembl_32_toclass['class'],\n",
    "    'classification': classification_previous,\n",
    "    'proba_0': predictions_previous[:, 0],\n",
    "    'proba_1': predictions_previous[:, 1],\n",
    "}\n",
    "classif_df_previous = pd.DataFrame(classif_data_previous)"
   ]
  },
  {
   "cell_type": "code",
   "execution_count": 30,
   "id": "daac173f",
   "metadata": {},
   "outputs": [
    {
     "data": {
      "text/plain": [
       "classification\n",
       "0    70726\n",
       "1     7206\n",
       "Name: count, dtype: int64"
      ]
     },
     "execution_count": 30,
     "metadata": {},
     "output_type": "execute_result"
    }
   ],
   "source": [
    "classif_df_previous['classification'].value_counts()"
   ]
  },
  {
   "cell_type": "code",
   "execution_count": 31,
   "id": "bd8fd359",
   "metadata": {},
   "outputs": [],
   "source": [
    "a = unclassified_df_vect_pubmed[unclassified_df_vect_pubmed['journal_Medchemcomm'] == 1]\n",
    "b = unclassified_df_vect_pubmed[unclassified_df_vect_pubmed['journal_J Nat Prod'] == 1]\n",
    "c = unclassified_df_vect_pubmed[unclassified_df_vect_pubmed['journal_J Med Chem'] == 1]\n",
    "d = unclassified_df_vect_pubmed[unclassified_df_vect_pubmed['journal_Eur J Med Chem'] == 1]\n",
    "e = unclassified_df_vect_pubmed[unclassified_df_vect_pubmed['journal_Bioorg Med Chem Lett'] == 1]\n",
    "f = unclassified_df_vect_pubmed[unclassified_df_vect_pubmed['journal_Bioorg Med Chem'] == 1]\n",
    "g = unclassified_df_vect_pubmed[unclassified_df_vect_pubmed['journal_ACS Med Chem Lett'] == 1]\n",
    "\n",
    "unclassified_df_core_j = pd.concat([a, b, c, d, e, f, g], axis=0)"
   ]
  },
  {
   "cell_type": "code",
   "execution_count": 32,
   "id": "3edc7fb2",
   "metadata": {},
   "outputs": [],
   "source": [
    "X_train_chembl, X_test_chembl, y_train_chembl, y_test_chembl = train_test_split(\n",
    "    classified_df_vect_pubmed.drop(columns=['class']), classified_df_vect_pubmed['class'], test_size=0.20,\n",
    "    random_state=42, stratify=classified_df_vect_pubmed['class'])\n",
    "X_test_chembl_ = pd.concat([X_test_chembl, y_test_chembl], axis=1)[\n",
    "    pd.concat([X_test_chembl, y_test_chembl], axis=1)['pubmed_id'].isin(chembl_32['pubmed_id'])]\n",
    "\n",
    "pd.concat(\n",
    "    [classif_df_previous[classif_df_previous['classification'] == 0][classif_df_previous['class'] != 0]['pubmed_id'],\n",
    "     X_test_chembl_[X_test_chembl_['class'] == 0]['pubmed_id']], axis=0).sample(n=50, random_state=42).to_csv(\n",
    "    'cs_50_previous_28_10.csv', index=False)\n",
    "pd.concat(\n",
    "    [classif_df_previous[classif_df_previous['classification'] == 1][classif_df_previous['class'] != 1]['pubmed_id'],\n",
    "     X_test_chembl_[X_test_chembl_['class'] == 1]['pubmed_id']], axis=0).sample(n=50, random_state=42).to_csv(\n",
    "    'review_50_previous_28_10.csv', index=False)"
   ]
  },
  {
   "cell_type": "code",
   "execution_count": 33,
   "id": "e3788c76",
   "metadata": {},
   "outputs": [
    {
     "data": {
      "image/png": "[encoded data removed]",
      "text/plain": [
       "<Figure size 1000x700 with 2 Axes>"
      ]
     },
     "metadata": {},
     "output_type": "display_data"
    }
   ],
   "source": [
    "matrix = confusion_matrix(y_test_pubmed, model_first.predict(X_test_pubmed.astype(np.float64)))\n",
    "matrix = matrix.astype('float') / matrix.sum(axis=1)[:, np.newaxis]\n",
    "\n",
    "plt.figure(figsize=(10, 7))\n",
    "sns.set(font_scale=1.5)\n",
    "sns.heatmap(matrix, annot=True, annot_kws={'size': 25},\n",
    "            cmap=plt.cm.Blues, linewidths=0.2)\n",
    "\n",
    "class_names = ['Other type', 'Review']\n",
    "tick_marks = np.arange(len(class_names))\n",
    "tick_marks2 = tick_marks + 0.5\n",
    "plt.xticks(tick_marks2, class_names, rotation=0)\n",
    "plt.yticks(tick_marks2, class_names, rotation=0)\n",
    "plt.xlabel('Predicted')\n",
    "plt.ylabel('Actual')\n",
    "plt.show()"
   ]
  },
  {
   "cell_type": "code",
   "execution_count": 34,
   "id": "30b47a93",
   "metadata": {},
   "outputs": [
    {
     "data": {
      "image/png": "[encoded data removed]",
      "text/plain": [
       "<Figure size 640x480 with 1 Axes>"
      ]
     },
     "metadata": {},
     "output_type": "display_data"
    }
   ],
   "source": [
    "y_pred = model_first.predict_proba(X_test_pubmed.astype(np.float64))[:, 1]\n",
    "fpr, tpr, thresholds = roc_curve(y_test_pubmed, y_pred)\n",
    "auc_score = auc(fpr, tpr)\n",
    "\n",
    "plt.figure()\n",
    "plt.plot(fpr, tpr, label='ROC curve (AUC = %0.3f)' % auc_score, color='grey')\n",
    "plt.title('ROC curve')\n",
    "plt.xlabel('False Positive Rate')\n",
    "plt.ylabel('True Positive Rate')\n",
    "plt.grid(True)\n",
    "plt.show()"
   ]
  },
  {
   "cell_type": "code",
   "execution_count": 35,
   "id": "f33747a5",
   "metadata": {},
   "outputs": [],
   "source": [
    "sample_cs_previous = pd.concat(\n",
    "    [classif_df_previous[classif_df_previous['classification'] == 0][classif_df_previous['class'] != 0]['pubmed_id'],\n",
    "     X_test_chembl_[X_test_chembl_['class'] == 0]['pubmed_id']], axis=0).sample(n=50, random_state=42)\n",
    "sample_review_previous = pd.concat(\n",
    "    [classif_df_previous[classif_df_previous['classification'] == 1][classif_df_previous['class'] != 1]['pubmed_id'],\n",
    "     X_test_chembl_[X_test_chembl_['class'] == 1]['pubmed_id']], axis=0).sample(n=50, random_state=42)\n",
    "previous_curation = pd.concat([pd.DataFrame(sample_cs_previous), pd.DataFrame(sample_review_previous)],\n",
    "                              axis=0).reset_index(drop=True)\n",
    "previous_curation['class'] = np.array([0] * 100)\n",
    "\n",
    "review_curation = [21044842, 26706173, 16248836, 29133039, 27707603, 27158141, 25333641]\n",
    "previous_curation.loc[previous_curation['pubmed_id'].isin(review_curation), 'class'] = 1\n",
    "previous_curation_modification = pd.merge(previous_curation, chembl_32_toclass.drop(columns=['class']), how='left')"
   ]
  },
  {
   "cell_type": "markdown",
   "id": "4b67636c",
   "metadata": {},
   "source": [
    "# OOD detection"
   ]
  },
  {
   "cell_type": "code",
   "execution_count": 36,
   "id": "43765d4d",
   "metadata": {},
   "outputs": [],
   "source": [
    "from sklearn.covariance import EmpiricalCovariance\n",
    "from scipy.spatial.distance import mahalanobis\n",
    "\n",
    "cov = EmpiricalCovariance().fit(\n",
    "    classified_df_vect_pubmed.drop(columns=['pubmed_id', 'class']).dropna().astype(np.float64))\n",
    "cov_matrix = cov.covariance_\n",
    "inv_cov_matrix = np.linalg.inv(cov_matrix)\n",
    "mean = np.mean(classified_df_vect_pubmed.drop(columns=['pubmed_id', 'class']).dropna().astype(np.float64), axis=0)\n",
    "\n",
    "\n",
    "def mahalanobis_distance(x, mean, inv_cov_matrix):\n",
    "    return mahalanobis(x, mean, inv_cov_matrix)\n",
    "\n",
    "\n",
    "distances = [mahalanobis_distance(x, mean, inv_cov_matrix) for x in\n",
    "             unclassified_df_core_j.drop(columns=['pubmed_id', 'class']).dropna().astype(np.float64).values]\n",
    "\n",
    "threshold = np.percentile(distances, 90)\n",
    "ood_indices = [i for i, d in enumerate(distances) if d > threshold]\n",
    "ood_data = unclassified_df_core_j.drop(columns=['class']).dropna().astype(np.float64).iloc[ood_indices]"
   ]
  },
  {
   "cell_type": "code",
   "execution_count": 37,
   "id": "c96b8c7b",
   "metadata": {},
   "outputs": [],
   "source": [
    "all_pubtypes = pd.read_csv('all_pubtypes.csv', sep=',')\n",
    "new_column_names = {old_name: f'class {i + 1}' for i, old_name in enumerate(all_pubtypes.columns)}\n",
    "all_pubtypes.rename(columns=new_column_names, inplace=True)\n",
    "all_pubtypes = pd.concat([chembl_32['pubmed_id'], all_pubtypes], axis=1)"
   ]
  },
  {
   "cell_type": "code",
   "execution_count": 38,
   "id": "34642c26",
   "metadata": {},
   "outputs": [],
   "source": [
    "labels = np.array([\"Research Support, Non-U.S. Gov't\", \"Research Support, U.S. Gov't, P.H.S.\",\n",
    "                   \"Research Support, U.S. Gov't, Non-P.H.S.\", \"Research Support, N.I.H., Extramural\",\n",
    "                   \"Research Support, N.I.H., Intramural\"])\n",
    "\n",
    "\n",
    "def contains_only_labels(row, labels):\n",
    "    return all(item in labels or pd.isna(item) for item in row.values)\n",
    "\n",
    "\n",
    "research_supports_ood = pd.merge(ood_data, all_pubtypes, how='left')[\n",
    "    pd.merge(ood_data, all_pubtypes, how='left').iloc[:, -5:].apply(lambda row: contains_only_labels(row, labels),\n",
    "                                                                    axis=1)].dropna(\n",
    "    subset=['class 1', 'class 2']).reset_index(drop=True)"
   ]
  },
  {
   "cell_type": "markdown",
   "id": "5b29db7f",
   "metadata": {},
   "source": [
    "# Manual curation of research supports"
   ]
  },
  {
   "cell_type": "code",
   "execution_count": 39,
   "id": "bf8a4bb9",
   "metadata": {},
   "outputs": [],
   "source": [
    "pd.merge(research_supports_ood, classif_df_previous, how='left')[\n",
    "    pd.merge(research_supports_ood, classif_df_previous, how='left')['classification'] == 1]['pubmed_id'].to_csv(\n",
    "    'previous_review_check_28_10.csv', index=False)\n",
    "pd.merge(research_supports_ood, classif_df_previous, how='left')[\n",
    "    pd.merge(research_supports_ood, classif_df_previous, how='left')['classification'] == 0]['pubmed_id'].sample(n=50,\n",
    "                                                                                                                 random_state=50).to_csv(\n",
    "    'previous_50_cs_check_28_10.csv', index=False)"
   ]
  },
  {
   "cell_type": "markdown",
   "id": "2faac6c5",
   "metadata": {},
   "source": [
    "# Adding data to a dataset and training the model"
   ]
  },
  {
   "cell_type": "code",
   "execution_count": 40,
   "id": "4cfeae6f",
   "metadata": {},
   "outputs": [],
   "source": [
    "classified_df_modified = pd.concat([classified_df_vect_pubmed, research_supports_ood.iloc[:, :-5],\n",
    "                                    previous_curation_modification.drop(columns=['document_chembl_id'])],\n",
    "                                   axis=0).drop_duplicates(subset='pubmed_id').reset_index(drop=True)\n",
    "classified_df_modified['class'].fillna(0, inplace=True)\n",
    "\n",
    "review_supports = [20096591, 26125082]\n",
    "classified_df_modified.loc[classified_df_modified['pubmed_id'].isin(review_supports), 'class'] = 1"
   ]
  },
  {
   "cell_type": "code",
   "execution_count": 41,
   "id": "ca3143de",
   "metadata": {},
   "outputs": [
    {
     "name": "stdout",
     "output_type": "stream",
     "text": [
      "Fitting 5 folds for each of 10 candidates, totalling 50 fits\n",
      "[CV 1/5; 1/10] START learning_rate=0.04625377795442797, max_depth=6, n_estimators=93, subsample=0.30727885348139\n",
      "[CV 1/5; 1/10] END learning_rate=0.04625377795442797, max_depth=6, n_estimators=93, subsample=0.30727885348139;, score=0.975 total time=   7.6s\n",
      "[CV 2/5; 1/10] START learning_rate=0.04625377795442797, max_depth=6, n_estimators=93, subsample=0.30727885348139\n",
      "[CV 2/5; 1/10] END learning_rate=0.04625377795442797, max_depth=6, n_estimators=93, subsample=0.30727885348139;, score=0.954 total time=   7.7s\n",
      "[CV 3/5; 1/10] START learning_rate=0.04625377795442797, max_depth=6, n_estimators=93, subsample=0.30727885348139\n",
      "[CV 3/5; 1/10] END learning_rate=0.04625377795442797, max_depth=6, n_estimators=93, subsample=0.30727885348139;, score=0.964 total time=   7.9s\n",
      "[CV 4/5; 1/10] START learning_rate=0.04625377795442797, max_depth=6, n_estimators=93, subsample=0.30727885348139\n",
      "[CV 4/5; 1/10] END learning_rate=0.04625377795442797, max_depth=6, n_estimators=93, subsample=0.30727885348139;, score=0.963 total time=   7.8s\n",
      "[CV 5/5; 1/10] START learning_rate=0.04625377795442797, max_depth=6, n_estimators=93, subsample=0.30727885348139\n",
      "[CV 5/5; 1/10] END learning_rate=0.04625377795442797, max_depth=6, n_estimators=93, subsample=0.30727885348139;, score=0.964 total time=   7.7s\n",
      "[CV 1/5; 2/10] START learning_rate=0.015777426530554407, max_depth=9, n_estimators=191, subsample=0.9163911563455784\n",
      "[CV 1/5; 2/10] END learning_rate=0.015777426530554407, max_depth=9, n_estimators=191, subsample=0.9163911563455784;, score=0.971 total time=  25.3s\n",
      "[CV 2/5; 2/10] START learning_rate=0.015777426530554407, max_depth=9, n_estimators=191, subsample=0.9163911563455784\n",
      "[CV 2/5; 2/10] END learning_rate=0.015777426530554407, max_depth=9, n_estimators=191, subsample=0.9163911563455784;, score=0.952 total time=  24.6s\n",
      "[CV 3/5; 2/10] START learning_rate=0.015777426530554407, max_depth=9, n_estimators=191, subsample=0.9163911563455784\n",
      "[CV 3/5; 2/10] END learning_rate=0.015777426530554407, max_depth=9, n_estimators=191, subsample=0.9163911563455784;, score=0.957 total time=  24.8s\n",
      "[CV 4/5; 2/10] START learning_rate=0.015777426530554407, max_depth=9, n_estimators=191, subsample=0.9163911563455784\n",
      "[CV 4/5; 2/10] END learning_rate=0.015777426530554407, max_depth=9, n_estimators=191, subsample=0.9163911563455784;, score=0.960 total time=  25.4s\n",
      "[CV 5/5; 2/10] START learning_rate=0.015777426530554407, max_depth=9, n_estimators=191, subsample=0.9163911563455784\n",
      "[CV 5/5; 2/10] END learning_rate=0.015777426530554407, max_depth=9, n_estimators=191, subsample=0.9163911563455784;, score=0.968 total time=  25.1s\n",
      "[CV 1/5; 3/10] START learning_rate=0.0871425429856203, max_depth=3, n_estimators=181, subsample=0.30630356296945344\n",
      "[CV 1/5; 3/10] END learning_rate=0.0871425429856203, max_depth=3, n_estimators=181, subsample=0.30630356296945344;, score=0.976 total time=   9.3s\n",
      "[CV 2/5; 3/10] START learning_rate=0.0871425429856203, max_depth=3, n_estimators=181, subsample=0.30630356296945344\n",
      "[CV 2/5; 3/10] END learning_rate=0.0871425429856203, max_depth=3, n_estimators=181, subsample=0.30630356296945344;, score=0.957 total time=   9.3s\n",
      "[CV 3/5; 3/10] START learning_rate=0.0871425429856203, max_depth=3, n_estimators=181, subsample=0.30630356296945344\n",
      "[CV 3/5; 3/10] END learning_rate=0.0871425429856203, max_depth=3, n_estimators=181, subsample=0.30630356296945344;, score=0.969 total time=   9.3s\n",
      "[CV 4/5; 3/10] START learning_rate=0.0871425429856203, max_depth=3, n_estimators=181, subsample=0.30630356296945344\n",
      "[CV 4/5; 3/10] END learning_rate=0.0871425429856203, max_depth=3, n_estimators=181, subsample=0.30630356296945344;, score=0.968 total time=   9.3s\n",
      "[CV 5/5; 3/10] START learning_rate=0.0871425429856203, max_depth=3, n_estimators=181, subsample=0.30630356296945344\n",
      "[CV 5/5; 3/10] END learning_rate=0.0871425429856203, max_depth=3, n_estimators=181, subsample=0.30630356296945344;, score=0.972 total time=   9.1s\n",
      "[CV 1/5; 4/10] START learning_rate=0.020544362447650344, max_depth=3, n_estimators=160, subsample=0.7086637659731153\n",
      "[CV 1/5; 4/10] END learning_rate=0.020544362447650344, max_depth=3, n_estimators=160, subsample=0.7086637659731153;, score=0.962 total time=   8.2s\n",
      "[CV 2/5; 4/10] START learning_rate=0.020544362447650344, max_depth=3, n_estimators=160, subsample=0.7086637659731153\n",
      "[CV 2/5; 4/10] END learning_rate=0.020544362447650344, max_depth=3, n_estimators=160, subsample=0.7086637659731153;, score=0.943 total time=   8.1s\n",
      "[CV 3/5; 4/10] START learning_rate=0.020544362447650344, max_depth=3, n_estimators=160, subsample=0.7086637659731153\n",
      "[CV 3/5; 4/10] END learning_rate=0.020544362447650344, max_depth=3, n_estimators=160, subsample=0.7086637659731153;, score=0.954 total time=   8.1s\n",
      "[CV 4/5; 4/10] START learning_rate=0.020544362447650344, max_depth=3, n_estimators=160, subsample=0.7086637659731153\n",
      "[CV 4/5; 4/10] END learning_rate=0.020544362447650344, max_depth=3, n_estimators=160, subsample=0.7086637659731153;, score=0.948 total time=   8.1s\n",
      "[CV 5/5; 4/10] START learning_rate=0.020544362447650344, max_depth=3, n_estimators=160, subsample=0.7086637659731153\n",
      "[CV 5/5; 4/10] END learning_rate=0.020544362447650344, max_depth=3, n_estimators=160, subsample=0.7086637659731153;, score=0.955 total time=   8.1s\n",
      "[CV 1/5; 5/10] START learning_rate=0.08937762135620275, max_depth=9, n_estimators=128, subsample=0.7633069123760294\n",
      "[CV 1/5; 5/10] END learning_rate=0.08937762135620275, max_depth=9, n_estimators=128, subsample=0.7633069123760294;, score=0.977 total time=  13.1s\n",
      "[CV 2/5; 5/10] START learning_rate=0.08937762135620275, max_depth=9, n_estimators=128, subsample=0.7633069123760294\n",
      "[CV 2/5; 5/10] END learning_rate=0.08937762135620275, max_depth=9, n_estimators=128, subsample=0.7633069123760294;, score=0.966 total time=  13.0s\n",
      "[CV 3/5; 5/10] START learning_rate=0.08937762135620275, max_depth=9, n_estimators=128, subsample=0.7633069123760294\n",
      "[CV 3/5; 5/10] END learning_rate=0.08937762135620275, max_depth=9, n_estimators=128, subsample=0.7633069123760294;, score=0.966 total time=  13.4s\n",
      "[CV 4/5; 5/10] START learning_rate=0.08937762135620275, max_depth=9, n_estimators=128, subsample=0.7633069123760294\n",
      "[CV 4/5; 5/10] END learning_rate=0.08937762135620275, max_depth=9, n_estimators=128, subsample=0.7633069123760294;, score=0.966 total time=  13.4s\n",
      "[CV 5/5; 5/10] START learning_rate=0.08937762135620275, max_depth=9, n_estimators=128, subsample=0.7633069123760294\n",
      "[CV 5/5; 5/10] END learning_rate=0.08937762135620275, max_depth=9, n_estimators=128, subsample=0.7633069123760294;, score=0.974 total time=  13.1s\n",
      "[CV 1/5; 6/10] START learning_rate=0.027563613461843363, max_depth=6, n_estimators=168, subsample=0.303163271729783\n",
      "[CV 1/5; 6/10] END learning_rate=0.027563613461843363, max_depth=6, n_estimators=168, subsample=0.303163271729783;, score=0.974 total time=  13.5s\n",
      "[CV 2/5; 6/10] START learning_rate=0.027563613461843363, max_depth=6, n_estimators=168, subsample=0.303163271729783\n",
      "[CV 2/5; 6/10] END learning_rate=0.027563613461843363, max_depth=6, n_estimators=168, subsample=0.303163271729783;, score=0.958 total time=  13.3s\n",
      "[CV 3/5; 6/10] START learning_rate=0.027563613461843363, max_depth=6, n_estimators=168, subsample=0.303163271729783\n",
      "[CV 3/5; 6/10] END learning_rate=0.027563613461843363, max_depth=6, n_estimators=168, subsample=0.303163271729783;, score=0.965 total time=  13.5s\n",
      "[CV 4/5; 6/10] START learning_rate=0.027563613461843363, max_depth=6, n_estimators=168, subsample=0.303163271729783\n",
      "[CV 4/5; 6/10] END learning_rate=0.027563613461843363, max_depth=6, n_estimators=168, subsample=0.303163271729783;, score=0.963 total time=  13.3s\n",
      "[CV 5/5; 6/10] START learning_rate=0.027563613461843363, max_depth=6, n_estimators=168, subsample=0.303163271729783\n",
      "[CV 5/5; 6/10] END learning_rate=0.027563613461843363, max_depth=6, n_estimators=168, subsample=0.303163271729783;, score=0.968 total time=  14.0s\n",
      "[CV 1/5; 7/10] START learning_rate=0.041393656115859656, max_depth=6, n_estimators=151, subsample=0.5237245159453631\n",
      "[CV 1/5; 7/10] END learning_rate=0.041393656115859656, max_depth=6, n_estimators=151, subsample=0.5237245159453631;, score=0.977 total time=  13.1s\n",
      "[CV 2/5; 7/10] START learning_rate=0.041393656115859656, max_depth=6, n_estimators=151, subsample=0.5237245159453631\n"
     ]
    },
    {
     "name": "stdout",
     "output_type": "stream",
     "text": [
      "[CV 2/5; 7/10] END learning_rate=0.041393656115859656, max_depth=6, n_estimators=151, subsample=0.5237245159453631;, score=0.963 total time=  12.7s\n",
      "[CV 3/5; 7/10] START learning_rate=0.041393656115859656, max_depth=6, n_estimators=151, subsample=0.5237245159453631\n",
      "[CV 3/5; 7/10] END learning_rate=0.041393656115859656, max_depth=6, n_estimators=151, subsample=0.5237245159453631;, score=0.965 total time=  12.9s\n",
      "[CV 4/5; 7/10] START learning_rate=0.041393656115859656, max_depth=6, n_estimators=151, subsample=0.5237245159453631\n",
      "[CV 4/5; 7/10] END learning_rate=0.041393656115859656, max_depth=6, n_estimators=151, subsample=0.5237245159453631;, score=0.965 total time=  13.3s\n",
      "[CV 5/5; 7/10] START learning_rate=0.041393656115859656, max_depth=6, n_estimators=151, subsample=0.5237245159453631\n",
      "[CV 5/5; 7/10] END learning_rate=0.041393656115859656, max_depth=6, n_estimators=151, subsample=0.5237245159453631;, score=0.971 total time=  13.1s\n",
      "[CV 1/5; 8/10] START learning_rate=0.05348936337599051, max_depth=7, n_estimators=172, subsample=0.7176062201532057\n",
      "[CV 1/5; 8/10] END learning_rate=0.05348936337599051, max_depth=7, n_estimators=172, subsample=0.7176062201532057;, score=0.976 total time=  17.0s\n",
      "[CV 2/5; 8/10] START learning_rate=0.05348936337599051, max_depth=7, n_estimators=172, subsample=0.7176062201532057\n",
      "[CV 2/5; 8/10] END learning_rate=0.05348936337599051, max_depth=7, n_estimators=172, subsample=0.7176062201532057;, score=0.967 total time=  16.1s\n",
      "[CV 3/5; 8/10] START learning_rate=0.05348936337599051, max_depth=7, n_estimators=172, subsample=0.7176062201532057\n",
      "[CV 3/5; 8/10] END learning_rate=0.05348936337599051, max_depth=7, n_estimators=172, subsample=0.7176062201532057;, score=0.966 total time=  16.1s\n",
      "[CV 4/5; 8/10] START learning_rate=0.05348936337599051, max_depth=7, n_estimators=172, subsample=0.7176062201532057\n",
      "[CV 4/5; 8/10] END learning_rate=0.05348936337599051, max_depth=7, n_estimators=172, subsample=0.7176062201532057;, score=0.964 total time=  16.6s\n",
      "[CV 5/5; 8/10] START learning_rate=0.05348936337599051, max_depth=7, n_estimators=172, subsample=0.7176062201532057\n",
      "[CV 5/5; 8/10] END learning_rate=0.05348936337599051, max_depth=7, n_estimators=172, subsample=0.7176062201532057;, score=0.973 total time=  16.1s\n",
      "[CV 1/5; 9/10] START learning_rate=0.06642117979801292, max_depth=7, n_estimators=153, subsample=0.7065714025708345\n",
      "[CV 1/5; 9/10] END learning_rate=0.06642117979801292, max_depth=7, n_estimators=153, subsample=0.7065714025708345;, score=0.978 total time=  14.4s\n",
      "[CV 2/5; 9/10] START learning_rate=0.06642117979801292, max_depth=7, n_estimators=153, subsample=0.7065714025708345\n",
      "[CV 2/5; 9/10] END learning_rate=0.06642117979801292, max_depth=7, n_estimators=153, subsample=0.7065714025708345;, score=0.962 total time=  14.4s\n",
      "[CV 3/5; 9/10] START learning_rate=0.06642117979801292, max_depth=7, n_estimators=153, subsample=0.7065714025708345\n",
      "[CV 3/5; 9/10] END learning_rate=0.06642117979801292, max_depth=7, n_estimators=153, subsample=0.7065714025708345;, score=0.967 total time=  14.0s\n",
      "[CV 4/5; 9/10] START learning_rate=0.06642117979801292, max_depth=7, n_estimators=153, subsample=0.7065714025708345\n",
      "[CV 4/5; 9/10] END learning_rate=0.06642117979801292, max_depth=7, n_estimators=153, subsample=0.7065714025708345;, score=0.970 total time=  14.3s\n",
      "[CV 5/5; 9/10] START learning_rate=0.06642117979801292, max_depth=7, n_estimators=153, subsample=0.7065714025708345\n",
      "[CV 5/5; 9/10] END learning_rate=0.06642117979801292, max_depth=7, n_estimators=153, subsample=0.7065714025708345;, score=0.972 total time=  14.3s\n",
      "[CV 1/5; 10/10] START learning_rate=0.06381371896863504, max_depth=9, n_estimators=100, subsample=0.9425578509495751\n",
      "[CV 1/5; 10/10] END learning_rate=0.06381371896863504, max_depth=9, n_estimators=100, subsample=0.9425578509495751;, score=0.974 total time=  12.5s\n",
      "[CV 2/5; 10/10] START learning_rate=0.06381371896863504, max_depth=9, n_estimators=100, subsample=0.9425578509495751\n",
      "[CV 2/5; 10/10] END learning_rate=0.06381371896863504, max_depth=9, n_estimators=100, subsample=0.9425578509495751;, score=0.958 total time=  12.1s\n",
      "[CV 3/5; 10/10] START learning_rate=0.06381371896863504, max_depth=9, n_estimators=100, subsample=0.9425578509495751\n",
      "[CV 3/5; 10/10] END learning_rate=0.06381371896863504, max_depth=9, n_estimators=100, subsample=0.9425578509495751;, score=0.959 total time=  12.6s\n",
      "[CV 4/5; 10/10] START learning_rate=0.06381371896863504, max_depth=9, n_estimators=100, subsample=0.9425578509495751\n",
      "[CV 4/5; 10/10] END learning_rate=0.06381371896863504, max_depth=9, n_estimators=100, subsample=0.9425578509495751;, score=0.962 total time=  12.6s\n",
      "[CV 5/5; 10/10] START learning_rate=0.06381371896863504, max_depth=9, n_estimators=100, subsample=0.9425578509495751\n",
      "[CV 5/5; 10/10] END learning_rate=0.06381371896863504, max_depth=9, n_estimators=100, subsample=0.9425578509495751;, score=0.967 total time=  12.3s\n",
      "Best set of hyperparameters:  {'learning_rate': 0.06642117979801292, 'max_depth': 7, 'n_estimators': 153, 'subsample': 0.7065714025708345}\n",
      "Best score:  0.969809199990264\n"
     ]
    }
   ],
   "source": [
    "X_train_pubmed_modified, X_test_pubmed_modified, y_train_pubmed_modified, y_test_pubmed_modified = train_test_split(\n",
    "    classified_df_modified.drop(columns=['class', 'pubmed_id']), classified_df_modified['class'], test_size=0.2,\n",
    "    random_state=42, stratify=classified_df_modified['class'])\n",
    "\n",
    "model = xgb.XGBClassifier()\n",
    "np.random.seed(4238)\n",
    "\n",
    "param_grid = {\n",
    "    'max_depth': stats.randint(3, 10),\n",
    "    'learning_rate': stats.uniform(0.001, 0.1),\n",
    "    'subsample': stats.uniform(0.3, 0.7),\n",
    "    'n_estimators': stats.randint(50, 200)\n",
    "}\n",
    "\n",
    "random_search_pubmed_modified = RandomizedSearchCV(model, param_grid, cv=5, n_iter=10, random_state=4238, scoring='f1',\n",
    "                                                   verbose=10)\n",
    "random_search_pubmed_modified.fit(X_train_pubmed_modified.astype(np.float64), y_train_pubmed_modified)\n",
    "\n",
    "print(\"Best set of hyperparameters: \", random_search_pubmed_modified.best_params_)\n",
    "print(\"Best score: \", random_search_pubmed_modified.best_score_)"
   ]
  },
  {
   "cell_type": "code",
   "execution_count": 42,
   "id": "16eb5ddd",
   "metadata": {},
   "outputs": [
    {
     "name": "stdout",
     "output_type": "stream",
     "text": [
      "0.9704579025110783\n",
      "0.9785407725321889\n",
      "0.9820627802690582\n",
      "0.9591240875912409\n",
      "[[1167   12]\n",
      " [  28  657]]\n"
     ]
    }
   ],
   "source": [
    "model_second = xgb.XGBClassifier(learning_rate=0.06642117979801292, max_depth=7, n_estimators=153,\n",
    "                                 subsample=0.7065714025708345)\n",
    "model_second.fit(X_train_pubmed_modified.astype(np.float64), y_train_pubmed_modified)\n",
    "\n",
    "print(f1_score(y_test_pubmed_modified, model_second.predict(X_test_pubmed_modified.astype(np.float64))))\n",
    "print(accuracy_score(y_test_pubmed_modified, model_second.predict(X_test_pubmed_modified.astype(np.float64))))\n",
    "print(precision_score(y_test_pubmed_modified, model_second.predict(X_test_pubmed_modified.astype(np.float64))))\n",
    "print(recall_score(y_test_pubmed_modified, model_second.predict(X_test_pubmed_modified.astype(np.float64))))\n",
    "print(confusion_matrix(y_test_pubmed_modified, model_second.predict(X_test_pubmed_modified.astype(np.float64))))"
   ]
  },
  {
   "cell_type": "code",
   "execution_count": 43,
   "id": "86f35a43",
   "metadata": {},
   "outputs": [],
   "source": [
    "classification_second = model_second.predict(\n",
    "    chembl_32_toclass.drop(columns=['pubmed_id', 'document_chembl_id', 'class']).astype(np.float64))\n",
    "predictions_second = model_second.predict_proba(\n",
    "    chembl_32_toclass.drop(columns=['pubmed_id', 'document_chembl_id', 'class']).astype(np.float64))\n",
    "classif_data_second = {\n",
    "    'pubmed_id': chembl_32_toclass['pubmed_id'],\n",
    "    'document_chembl_id': chembl_32_toclass['document_chembl_id'],\n",
    "    'class': chembl_32_toclass['class'],\n",
    "    'classification': classification_second,\n",
    "    'proba_0': predictions_second[:, 0],\n",
    "    'proba_1': predictions_second[:, 1],\n",
    "}\n",
    "classif_df_second = pd.DataFrame(classif_data_second)"
   ]
  },
  {
   "cell_type": "code",
   "execution_count": 44,
   "id": "3c679bb5",
   "metadata": {},
   "outputs": [
    {
     "data": {
      "text/plain": [
       "classification\n",
       "0    74395\n",
       "1     3537\n",
       "Name: count, dtype: int64"
      ]
     },
     "execution_count": 44,
     "metadata": {},
     "output_type": "execute_result"
    }
   ],
   "source": [
    "classif_df_second['classification'].value_counts()"
   ]
  },
  {
   "cell_type": "code",
   "execution_count": 45,
   "id": "60decfd8",
   "metadata": {},
   "outputs": [],
   "source": [
    "X_train_chembl_second, X_test_chembl_second, y_train_chembl_second, y_test_chembl_second = train_test_split(\n",
    "    classified_df_modified.drop(columns=['class']), classified_df_modified['class'], test_size=0.20, random_state=42,\n",
    "    stratify=classified_df_modified['class'])\n",
    "X_test_chembl_second_ = pd.concat([X_test_chembl_second, y_test_chembl_second], axis=1)[\n",
    "    pd.concat([X_test_chembl_second, y_test_chembl_second], axis=1)['pubmed_id'].isin(chembl_32['pubmed_id'])]\n",
    "\n",
    "pd.concat([classif_df_second[classif_df_second['classification'] == 0][classif_df_second['class'] != 0]['pubmed_id'],\n",
    "           X_test_chembl_second_[X_test_chembl_second_['class'] == 0]['pubmed_id']], axis=0).sample(n=50,\n",
    "                                                                                                    random_state=42).to_csv(\n",
    "    'cs_50_second_28_10.csv', index=False)\n",
    "pd.concat([classif_df_second[classif_df_second['classification'] == 1][classif_df_second['class'] != 1]['pubmed_id'],\n",
    "           X_test_chembl_second_[X_test_chembl_second_['class'] == 1]['pubmed_id']], axis=0).sample(n=50,\n",
    "                                                                                                    random_state=42).to_csv(\n",
    "    'review_50_second_28_10.csv', index=False)"
   ]
  },
  {
   "cell_type": "code",
   "execution_count": 46,
   "id": "fe0827dd",
   "metadata": {},
   "outputs": [
    {
     "data": {
      "image/png": "[encoded data removed]",
      "text/plain": [
       "<Figure size 1000x700 with 2 Axes>"
      ]
     },
     "metadata": {},
     "output_type": "display_data"
    }
   ],
   "source": [
    "matrix = confusion_matrix(y_test_pubmed_modified, model_second.predict(X_test_pubmed_modified.astype(np.float64)))\n",
    "matrix = matrix.astype('float') / matrix.sum(axis=1)[:, np.newaxis]\n",
    "\n",
    "plt.figure(figsize=(10, 7))\n",
    "sns.set(font_scale=1.5)\n",
    "sns.heatmap(matrix, annot=True, annot_kws={'size': 25},\n",
    "            cmap=plt.cm.Blues, linewidths=0.2)\n",
    "\n",
    "class_names = ['Other type', 'Review']\n",
    "tick_marks = np.arange(len(class_names))\n",
    "tick_marks2 = tick_marks + 0.5\n",
    "plt.xticks(tick_marks2, class_names, rotation=0)\n",
    "plt.yticks(tick_marks2, class_names, rotation=0)\n",
    "plt.xlabel('Predicted')\n",
    "plt.ylabel('Actual')\n",
    "plt.show()"
   ]
  },
  {
   "cell_type": "code",
   "execution_count": 47,
   "id": "7321bb9a",
   "metadata": {},
   "outputs": [
    {
     "data": {
      "image/png": "[encoded data removed]",
      "text/plain": [
       "<Figure size 640x480 with 1 Axes>"
      ]
     },
     "metadata": {},
     "output_type": "display_data"
    }
   ],
   "source": [
    "y_pred = model_second.predict_proba(X_test_pubmed_modified.astype(np.float64))[:, 1]\n",
    "fpr, tpr, thresholds = roc_curve(y_test_pubmed_modified, y_pred)\n",
    "auc_score = auc(fpr, tpr)\n",
    "\n",
    "plt.figure()\n",
    "plt.plot(fpr, tpr, label='ROC curve (AUC = %0.3f)' % auc_score, color='grey')\n",
    "plt.title('ROC curve')\n",
    "plt.xlabel('False Positive Rate')\n",
    "plt.ylabel('True Positive Rate')\n",
    "plt.grid(True)\n",
    "plt.show()"
   ]
  },
  {
   "cell_type": "code",
   "execution_count": 48,
   "id": "2c656f66",
   "metadata": {},
   "outputs": [],
   "source": [
    "sample_cs_second = pd.concat(\n",
    "    [classif_df_second[classif_df_second['classification'] == 0][classif_df_second['class'] != 0]['pubmed_id'],\n",
    "     X_test_chembl_second_[X_test_chembl_second_['class'] == 0]['pubmed_id']], axis=0).sample(n=50, random_state=42)\n",
    "sample_review_second = pd.concat(\n",
    "    [classif_df_second[classif_df_second['classification'] == 1][classif_df_second['class'] != 1]['pubmed_id'],\n",
    "     X_test_chembl_second_[X_test_chembl_second_['class'] == 1]['pubmed_id']], axis=0).sample(n=50, random_state=42)\n",
    "second_curation = pd.concat([pd.DataFrame(sample_cs_second), pd.DataFrame(sample_review_second)], axis=0).reset_index(\n",
    "    drop=True)\n",
    "second_curation['class'] = np.array([0] * 100)\n",
    "second_curation\n",
    "\n",
    "review_curation_second = [22222036, 30633510, 21780776, 21616672, 25173852, 22236250, 18828573, 29605809, 17095225]\n",
    "second_curation.loc[second_curation['pubmed_id'].isin(review_curation_second), 'class'] = 1\n",
    "second_curation_modification = pd.merge(second_curation, chembl_32_toclass.drop(columns=['class']), how='left')"
   ]
  },
  {
   "cell_type": "markdown",
   "id": "4a5e3286",
   "metadata": {},
   "source": [
    "# Second OOD detection"
   ]
  },
  {
   "cell_type": "code",
   "execution_count": 49,
   "id": "6df81a9c",
   "metadata": {},
   "outputs": [],
   "source": [
    "unclassified_df_core_j_second = unclassified_df_core_j[~unclassified_df_core_j['pubmed_id'].isin(ood_data['pubmed_id'])]\n",
    "cov_second = EmpiricalCovariance().fit(\n",
    "    classified_df_modified.drop(columns=['pubmed_id', 'class']).dropna().astype(np.float64))\n",
    "cov_matrix_second = cov_second.covariance_\n",
    "inv_cov_matrix_second = np.linalg.inv(cov_matrix_second)\n",
    "mean_second = np.mean(classified_df_modified.drop(columns=['pubmed_id', 'class']).dropna().astype(np.float64), axis=0)\n",
    "\n",
    "distances_second = [mahalanobis_distance(x, mean_second, inv_cov_matrix_second) for x in\n",
    "                    unclassified_df_core_j_second.drop(columns=['pubmed_id', 'class']).dropna().astype(\n",
    "                        np.float64).values]\n",
    "\n",
    "threshold_second = np.percentile(distances_second, 90)\n",
    "ood_indices_second = [i for i, d in enumerate(distances_second) if d > threshold_second]\n",
    "ood_data_second = unclassified_df_core_j_second.drop(columns=['class']).dropna().astype(np.float64).iloc[\n",
    "    ood_indices_second]"
   ]
  },
  {
   "cell_type": "code",
   "execution_count": 50,
   "id": "1a3850a6",
   "metadata": {},
   "outputs": [],
   "source": [
    "research_supports_ood_second = pd.merge(ood_data_second, all_pubtypes, how='left')[\n",
    "    pd.merge(ood_data_second, all_pubtypes, how='left').iloc[:, -5:].apply(\n",
    "        lambda row: contains_only_labels(row, labels), axis=1)].dropna(subset=['class 1', 'class 2']).reset_index(\n",
    "    drop=True)"
   ]
  },
  {
   "cell_type": "markdown",
   "id": "f675da13",
   "metadata": {},
   "source": [
    "# Second manual curation of research supports"
   ]
  },
  {
   "cell_type": "code",
   "execution_count": 51,
   "id": "6a24458b",
   "metadata": {},
   "outputs": [],
   "source": [
    "pd.merge(research_supports_ood_second, classif_df_second, how='left')[\n",
    "    pd.merge(research_supports_ood_second, classif_df_second, how='left')['classification'] == 1]['pubmed_id'].to_csv(\n",
    "    'second_review_check_28_10.csv', index=False)\n",
    "pd.merge(research_supports_ood_second, classif_df_second, how='left')[\n",
    "    pd.merge(research_supports_ood_second, classif_df_second, how='left')['classification'] == 0]['pubmed_id'].sample(\n",
    "    n=50, random_state=50).to_csv('second_50_cs_check_28_10.csv', index=False)"
   ]
  },
  {
   "cell_type": "markdown",
   "id": "555a1aa5",
   "metadata": {},
   "source": [
    "# Second adding data to the dataset and training the model"
   ]
  },
  {
   "cell_type": "code",
   "execution_count": 52,
   "id": "e04f94d3",
   "metadata": {},
   "outputs": [],
   "source": [
    "classified_df_second_modified = pd.concat([classified_df_modified, research_supports_ood_second.iloc[:, :-5],\n",
    "                                           second_curation_modification.drop(columns=['document_chembl_id'])],\n",
    "                                          axis=0).drop_duplicates(subset='pubmed_id').reset_index(drop=True)\n",
    "classified_df_second_modified['class'].fillna(0, inplace=True)\n",
    "\n",
    "review_supports_second = [24831826, 26356253]\n",
    "classified_df_second_modified.loc[classified_df_second_modified['pubmed_id'].isin(review_supports_second), 'class'] = 1\n"
   ]
  },
  {
   "cell_type": "code",
   "execution_count": 53,
   "id": "da7ef800",
   "metadata": {},
   "outputs": [
    {
     "name": "stdout",
     "output_type": "stream",
     "text": [
      "Fitting 5 folds for each of 10 candidates, totalling 50 fits\n",
      "[CV 1/5; 1/10] START learning_rate=0.033494948661751345, max_depth=8, n_estimators=195, subsample=0.939805559940359\n",
      "[CV 1/5; 1/10] END learning_rate=0.033494948661751345, max_depth=8, n_estimators=195, subsample=0.939805559940359;, score=0.966 total time=  22.4s\n",
      "[CV 2/5; 1/10] START learning_rate=0.033494948661751345, max_depth=8, n_estimators=195, subsample=0.939805559940359\n",
      "[CV 2/5; 1/10] END learning_rate=0.033494948661751345, max_depth=8, n_estimators=195, subsample=0.939805559940359;, score=0.965 total time=  22.9s\n",
      "[CV 3/5; 1/10] START learning_rate=0.033494948661751345, max_depth=8, n_estimators=195, subsample=0.939805559940359\n",
      "[CV 3/5; 1/10] END learning_rate=0.033494948661751345, max_depth=8, n_estimators=195, subsample=0.939805559940359;, score=0.961 total time=  22.6s\n",
      "[CV 4/5; 1/10] START learning_rate=0.033494948661751345, max_depth=8, n_estimators=195, subsample=0.939805559940359\n",
      "[CV 4/5; 1/10] END learning_rate=0.033494948661751345, max_depth=8, n_estimators=195, subsample=0.939805559940359;, score=0.963 total time=  22.9s\n",
      "[CV 5/5; 1/10] START learning_rate=0.033494948661751345, max_depth=8, n_estimators=195, subsample=0.939805559940359\n",
      "[CV 5/5; 1/10] END learning_rate=0.033494948661751345, max_depth=8, n_estimators=195, subsample=0.939805559940359;, score=0.961 total time=  22.0s\n",
      "[CV 1/5; 2/10] START learning_rate=0.029650938223153834, max_depth=6, n_estimators=175, subsample=0.7600789173227716\n",
      "[CV 1/5; 2/10] END learning_rate=0.029650938223153834, max_depth=6, n_estimators=175, subsample=0.7600789173227716;, score=0.963 total time=  15.3s\n",
      "[CV 2/5; 2/10] START learning_rate=0.029650938223153834, max_depth=6, n_estimators=175, subsample=0.7600789173227716\n",
      "[CV 2/5; 2/10] END learning_rate=0.029650938223153834, max_depth=6, n_estimators=175, subsample=0.7600789173227716;, score=0.965 total time=  15.3s\n",
      "[CV 3/5; 2/10] START learning_rate=0.029650938223153834, max_depth=6, n_estimators=175, subsample=0.7600789173227716\n",
      "[CV 3/5; 2/10] END learning_rate=0.029650938223153834, max_depth=6, n_estimators=175, subsample=0.7600789173227716;, score=0.961 total time=  15.3s\n",
      "[CV 4/5; 2/10] START learning_rate=0.029650938223153834, max_depth=6, n_estimators=175, subsample=0.7600789173227716\n",
      "[CV 4/5; 2/10] END learning_rate=0.029650938223153834, max_depth=6, n_estimators=175, subsample=0.7600789173227716;, score=0.963 total time=  15.5s\n",
      "[CV 5/5; 2/10] START learning_rate=0.029650938223153834, max_depth=6, n_estimators=175, subsample=0.7600789173227716\n",
      "[CV 5/5; 2/10] END learning_rate=0.029650938223153834, max_depth=6, n_estimators=175, subsample=0.7600789173227716;, score=0.963 total time=  15.8s\n",
      "[CV 1/5; 3/10] START learning_rate=0.05394767432971967, max_depth=8, n_estimators=191, subsample=0.40698169969094655\n",
      "[CV 1/5; 3/10] END learning_rate=0.05394767432971967, max_depth=8, n_estimators=191, subsample=0.40698169969094655;, score=0.970 total time=  17.6s\n",
      "[CV 2/5; 3/10] START learning_rate=0.05394767432971967, max_depth=8, n_estimators=191, subsample=0.40698169969094655\n",
      "[CV 2/5; 3/10] END learning_rate=0.05394767432971967, max_depth=8, n_estimators=191, subsample=0.40698169969094655;, score=0.965 total time=  17.7s\n",
      "[CV 3/5; 3/10] START learning_rate=0.05394767432971967, max_depth=8, n_estimators=191, subsample=0.40698169969094655\n",
      "[CV 3/5; 3/10] END learning_rate=0.05394767432971967, max_depth=8, n_estimators=191, subsample=0.40698169969094655;, score=0.965 total time=  17.8s\n",
      "[CV 4/5; 3/10] START learning_rate=0.05394767432971967, max_depth=8, n_estimators=191, subsample=0.40698169969094655\n",
      "[CV 4/5; 3/10] END learning_rate=0.05394767432971967, max_depth=8, n_estimators=191, subsample=0.40698169969094655;, score=0.970 total time=  17.4s\n",
      "[CV 5/5; 3/10] START learning_rate=0.05394767432971967, max_depth=8, n_estimators=191, subsample=0.40698169969094655\n",
      "[CV 5/5; 3/10] END learning_rate=0.05394767432971967, max_depth=8, n_estimators=191, subsample=0.40698169969094655;, score=0.965 total time=  17.6s\n",
      "[CV 1/5; 4/10] START learning_rate=0.09204958071826921, max_depth=7, n_estimators=109, subsample=0.6451559704725873\n",
      "[CV 1/5; 4/10] END learning_rate=0.09204958071826921, max_depth=7, n_estimators=109, subsample=0.6451559704725873;, score=0.973 total time=  10.3s\n",
      "[CV 2/5; 4/10] START learning_rate=0.09204958071826921, max_depth=7, n_estimators=109, subsample=0.6451559704725873\n",
      "[CV 2/5; 4/10] END learning_rate=0.09204958071826921, max_depth=7, n_estimators=109, subsample=0.6451559704725873;, score=0.968 total time=  10.1s\n",
      "[CV 3/5; 4/10] START learning_rate=0.09204958071826921, max_depth=7, n_estimators=109, subsample=0.6451559704725873\n",
      "[CV 3/5; 4/10] END learning_rate=0.09204958071826921, max_depth=7, n_estimators=109, subsample=0.6451559704725873;, score=0.971 total time=  10.7s\n",
      "[CV 4/5; 4/10] START learning_rate=0.09204958071826921, max_depth=7, n_estimators=109, subsample=0.6451559704725873\n",
      "[CV 4/5; 4/10] END learning_rate=0.09204958071826921, max_depth=7, n_estimators=109, subsample=0.6451559704725873;, score=0.967 total time=  10.3s\n",
      "[CV 5/5; 4/10] START learning_rate=0.09204958071826921, max_depth=7, n_estimators=109, subsample=0.6451559704725873\n",
      "[CV 5/5; 4/10] END learning_rate=0.09204958071826921, max_depth=7, n_estimators=109, subsample=0.6451559704725873;, score=0.965 total time=  10.5s\n",
      "[CV 1/5; 5/10] START learning_rate=0.019703905836897607, max_depth=4, n_estimators=197, subsample=0.9739605727885912\n",
      "[CV 1/5; 5/10] END learning_rate=0.019703905836897607, max_depth=4, n_estimators=197, subsample=0.9739605727885912;, score=0.960 total time=  11.6s\n",
      "[CV 2/5; 5/10] START learning_rate=0.019703905836897607, max_depth=4, n_estimators=197, subsample=0.9739605727885912\n",
      "[CV 2/5; 5/10] END learning_rate=0.019703905836897607, max_depth=4, n_estimators=197, subsample=0.9739605727885912;, score=0.959 total time=  11.4s\n",
      "[CV 3/5; 5/10] START learning_rate=0.019703905836897607, max_depth=4, n_estimators=197, subsample=0.9739605727885912\n",
      "[CV 3/5; 5/10] END learning_rate=0.019703905836897607, max_depth=4, n_estimators=197, subsample=0.9739605727885912;, score=0.961 total time=  11.4s\n",
      "[CV 4/5; 5/10] START learning_rate=0.019703905836897607, max_depth=4, n_estimators=197, subsample=0.9739605727885912\n",
      "[CV 4/5; 5/10] END learning_rate=0.019703905836897607, max_depth=4, n_estimators=197, subsample=0.9739605727885912;, score=0.958 total time=  11.7s\n",
      "[CV 5/5; 5/10] START learning_rate=0.019703905836897607, max_depth=4, n_estimators=197, subsample=0.9739605727885912\n",
      "[CV 5/5; 5/10] END learning_rate=0.019703905836897607, max_depth=4, n_estimators=197, subsample=0.9739605727885912;, score=0.955 total time=  11.9s\n",
      "[CV 1/5; 6/10] START learning_rate=0.06419988601639197, max_depth=7, n_estimators=164, subsample=0.8560080940597259\n",
      "[CV 1/5; 6/10] END learning_rate=0.06419988601639197, max_depth=7, n_estimators=164, subsample=0.8560080940597259;, score=0.970 total time=  16.6s\n",
      "[CV 2/5; 6/10] START learning_rate=0.06419988601639197, max_depth=7, n_estimators=164, subsample=0.8560080940597259\n",
      "[CV 2/5; 6/10] END learning_rate=0.06419988601639197, max_depth=7, n_estimators=164, subsample=0.8560080940597259;, score=0.969 total time=  17.3s\n",
      "[CV 3/5; 6/10] START learning_rate=0.06419988601639197, max_depth=7, n_estimators=164, subsample=0.8560080940597259\n",
      "[CV 3/5; 6/10] END learning_rate=0.06419988601639197, max_depth=7, n_estimators=164, subsample=0.8560080940597259;, score=0.968 total time=  18.7s\n",
      "[CV 4/5; 6/10] START learning_rate=0.06419988601639197, max_depth=7, n_estimators=164, subsample=0.8560080940597259\n",
      "[CV 4/5; 6/10] END learning_rate=0.06419988601639197, max_depth=7, n_estimators=164, subsample=0.8560080940597259;, score=0.969 total time=  18.0s\n",
      "[CV 5/5; 6/10] START learning_rate=0.06419988601639197, max_depth=7, n_estimators=164, subsample=0.8560080940597259\n",
      "[CV 5/5; 6/10] END learning_rate=0.06419988601639197, max_depth=7, n_estimators=164, subsample=0.8560080940597259;, score=0.966 total time=  16.7s\n",
      "[CV 1/5; 7/10] START learning_rate=0.06327561839510829, max_depth=4, n_estimators=147, subsample=0.7551824676220534\n",
      "[CV 1/5; 7/10] END learning_rate=0.06327561839510829, max_depth=4, n_estimators=147, subsample=0.7551824676220534;, score=0.968 total time=   9.4s\n",
      "[CV 2/5; 7/10] START learning_rate=0.06327561839510829, max_depth=4, n_estimators=147, subsample=0.7551824676220534\n"
     ]
    },
    {
     "name": "stdout",
     "output_type": "stream",
     "text": [
      "[CV 2/5; 7/10] END learning_rate=0.06327561839510829, max_depth=4, n_estimators=147, subsample=0.7551824676220534;, score=0.964 total time=   8.7s\n",
      "[CV 3/5; 7/10] START learning_rate=0.06327561839510829, max_depth=4, n_estimators=147, subsample=0.7551824676220534\n",
      "[CV 3/5; 7/10] END learning_rate=0.06327561839510829, max_depth=4, n_estimators=147, subsample=0.7551824676220534;, score=0.967 total time=   8.9s\n",
      "[CV 4/5; 7/10] START learning_rate=0.06327561839510829, max_depth=4, n_estimators=147, subsample=0.7551824676220534\n",
      "[CV 4/5; 7/10] END learning_rate=0.06327561839510829, max_depth=4, n_estimators=147, subsample=0.7551824676220534;, score=0.972 total time=   8.9s\n",
      "[CV 5/5; 7/10] START learning_rate=0.06327561839510829, max_depth=4, n_estimators=147, subsample=0.7551824676220534\n",
      "[CV 5/5; 7/10] END learning_rate=0.06327561839510829, max_depth=4, n_estimators=147, subsample=0.7551824676220534;, score=0.969 total time=   8.9s\n",
      "[CV 1/5; 8/10] START learning_rate=0.09134003995547546, max_depth=4, n_estimators=50, subsample=0.5189994634279553\n",
      "[CV 1/5; 8/10] END learning_rate=0.09134003995547546, max_depth=4, n_estimators=50, subsample=0.5189994634279553;, score=0.960 total time=   3.2s\n",
      "[CV 2/5; 8/10] START learning_rate=0.09134003995547546, max_depth=4, n_estimators=50, subsample=0.5189994634279553\n",
      "[CV 2/5; 8/10] END learning_rate=0.09134003995547546, max_depth=4, n_estimators=50, subsample=0.5189994634279553;, score=0.957 total time=   3.3s\n",
      "[CV 3/5; 8/10] START learning_rate=0.09134003995547546, max_depth=4, n_estimators=50, subsample=0.5189994634279553\n",
      "[CV 3/5; 8/10] END learning_rate=0.09134003995547546, max_depth=4, n_estimators=50, subsample=0.5189994634279553;, score=0.962 total time=   3.4s\n",
      "[CV 4/5; 8/10] START learning_rate=0.09134003995547546, max_depth=4, n_estimators=50, subsample=0.5189994634279553\n",
      "[CV 4/5; 8/10] END learning_rate=0.09134003995547546, max_depth=4, n_estimators=50, subsample=0.5189994634279553;, score=0.963 total time=   3.3s\n",
      "[CV 5/5; 8/10] START learning_rate=0.09134003995547546, max_depth=4, n_estimators=50, subsample=0.5189994634279553\n",
      "[CV 5/5; 8/10] END learning_rate=0.09134003995547546, max_depth=4, n_estimators=50, subsample=0.5189994634279553;, score=0.958 total time=   3.3s\n",
      "[CV 1/5; 9/10] START learning_rate=0.058899702971947666, max_depth=4, n_estimators=136, subsample=0.5900558687966375\n",
      "[CV 1/5; 9/10] END learning_rate=0.058899702971947666, max_depth=4, n_estimators=136, subsample=0.5900558687966375;, score=0.966 total time=   8.2s\n",
      "[CV 2/5; 9/10] START learning_rate=0.058899702971947666, max_depth=4, n_estimators=136, subsample=0.5900558687966375\n",
      "[CV 2/5; 9/10] END learning_rate=0.058899702971947666, max_depth=4, n_estimators=136, subsample=0.5900558687966375;, score=0.970 total time=   8.2s\n",
      "[CV 3/5; 9/10] START learning_rate=0.058899702971947666, max_depth=4, n_estimators=136, subsample=0.5900558687966375\n",
      "[CV 3/5; 9/10] END learning_rate=0.058899702971947666, max_depth=4, n_estimators=136, subsample=0.5900558687966375;, score=0.969 total time=   8.2s\n",
      "[CV 4/5; 9/10] START learning_rate=0.058899702971947666, max_depth=4, n_estimators=136, subsample=0.5900558687966375\n",
      "[CV 4/5; 9/10] END learning_rate=0.058899702971947666, max_depth=4, n_estimators=136, subsample=0.5900558687966375;, score=0.970 total time=   8.2s\n",
      "[CV 5/5; 9/10] START learning_rate=0.058899702971947666, max_depth=4, n_estimators=136, subsample=0.5900558687966375\n",
      "[CV 5/5; 9/10] END learning_rate=0.058899702971947666, max_depth=4, n_estimators=136, subsample=0.5900558687966375;, score=0.967 total time=   8.2s\n",
      "[CV 1/5; 10/10] START learning_rate=0.0946037109802962, max_depth=6, n_estimators=181, subsample=0.8219923502058182\n",
      "[CV 1/5; 10/10] END learning_rate=0.0946037109802962, max_depth=6, n_estimators=181, subsample=0.8219923502058182;, score=0.972 total time=  14.3s\n",
      "[CV 2/5; 10/10] START learning_rate=0.0946037109802962, max_depth=6, n_estimators=181, subsample=0.8219923502058182\n",
      "[CV 2/5; 10/10] END learning_rate=0.0946037109802962, max_depth=6, n_estimators=181, subsample=0.8219923502058182;, score=0.970 total time=  14.1s\n",
      "[CV 3/5; 10/10] START learning_rate=0.0946037109802962, max_depth=6, n_estimators=181, subsample=0.8219923502058182\n",
      "[CV 3/5; 10/10] END learning_rate=0.0946037109802962, max_depth=6, n_estimators=181, subsample=0.8219923502058182;, score=0.969 total time=  14.6s\n",
      "[CV 4/5; 10/10] START learning_rate=0.0946037109802962, max_depth=6, n_estimators=181, subsample=0.8219923502058182\n",
      "[CV 4/5; 10/10] END learning_rate=0.0946037109802962, max_depth=6, n_estimators=181, subsample=0.8219923502058182;, score=0.971 total time=  14.4s\n",
      "[CV 5/5; 10/10] START learning_rate=0.0946037109802962, max_depth=6, n_estimators=181, subsample=0.8219923502058182\n",
      "[CV 5/5; 10/10] END learning_rate=0.0946037109802962, max_depth=6, n_estimators=181, subsample=0.8219923502058182;, score=0.970 total time=  14.9s\n",
      "Best set of hyperparameters:  {'learning_rate': 0.0946037109802962, 'max_depth': 6, 'n_estimators': 181, 'subsample': 0.8219923502058182}\n",
      "Best score:  0.9700509400843254\n"
     ]
    }
   ],
   "source": [
    "X_train_pubmed_second_modified, X_test_pubmed_second_modified, y_train_pubmed_second_modified, y_test_pubmed_second_modified = train_test_split(\n",
    "    classified_df_second_modified.drop(columns=['class', 'pubmed_id']), classified_df_second_modified['class'],\n",
    "    test_size=0.2, random_state=42, stratify=classified_df_second_modified['class'])\n",
    "\n",
    "model = xgb.XGBClassifier()\n",
    "np.random.seed(4242)\n",
    "\n",
    "param_grid = {\n",
    "    'max_depth': stats.randint(3, 10),\n",
    "    'learning_rate': stats.uniform(0.001, 0.1),\n",
    "    'subsample': stats.uniform(0.3, 0.7),\n",
    "    'n_estimators': stats.randint(50, 200)\n",
    "}\n",
    "\n",
    "random_search_pubmed_second_modified = RandomizedSearchCV(model, param_grid, cv=5, n_iter=10, random_state=4242,\n",
    "                                                          scoring='f1', verbose=10)\n",
    "random_search_pubmed_second_modified.fit(X_train_pubmed_second_modified.astype(np.float64),\n",
    "                                         y_train_pubmed_second_modified)\n",
    "\n",
    "print(\"Best set of hyperparameters: \", random_search_pubmed_second_modified.best_params_)\n",
    "print(\"Best score: \", random_search_pubmed_second_modified.best_score_)"
   ]
  },
  {
   "cell_type": "code",
   "execution_count": 54,
   "id": "8e19b1cf",
   "metadata": {},
   "outputs": [
    {
     "name": "stdout",
     "output_type": "stream",
     "text": [
      "0.9697416974169741\n",
      "0.9791029561671764\n",
      "0.9820627802690582\n",
      "0.9577259475218659\n",
      "[[1264   12]\n",
      " [  29  657]]\n"
     ]
    }
   ],
   "source": [
    "model_third = xgb.XGBClassifier(learning_rate=0.0946037109802962, max_depth=6, n_estimators=181,\n",
    "                                subsample=0.8219923502058182)\n",
    "model_third.fit(X_train_pubmed_second_modified.astype(np.float64), y_train_pubmed_second_modified)\n",
    "\n",
    "print(f1_score(y_test_pubmed_second_modified, model_third.predict(X_test_pubmed_second_modified.astype(np.float64))))\n",
    "print(accuracy_score(y_test_pubmed_second_modified, model_third.predict(X_test_pubmed_second_modified.astype(np.float64))))\n",
    "print(precision_score(y_test_pubmed_second_modified, model_third.predict(X_test_pubmed_second_modified.astype(np.float64))))\n",
    "print(recall_score(y_test_pubmed_second_modified, model_third.predict(X_test_pubmed_second_modified.astype(np.float64))))\n",
    "print(confusion_matrix(y_test_pubmed_second_modified, model_third.predict(X_test_pubmed_second_modified.astype(np.float64))))"
   ]
  },
  {
   "cell_type": "code",
   "execution_count": 55,
   "id": "7e1160f0",
   "metadata": {},
   "outputs": [],
   "source": [
    "classification_third = model_third.predict(\n",
    "    chembl_32_toclass.drop(columns=['pubmed_id', 'document_chembl_id', 'class']).astype(np.float64))\n",
    "predictions_third = model_third.predict_proba(\n",
    "    chembl_32_toclass.drop(columns=['pubmed_id', 'document_chembl_id', 'class']).astype(np.float64))\n",
    "classif_data_third = {\n",
    "    'pubmed_id': chembl_32_toclass['pubmed_id'],\n",
    "    'document_chembl_id': chembl_32_toclass['document_chembl_id'],\n",
    "    'class': chembl_32_toclass['class'],\n",
    "    'classification': classification_third,\n",
    "    'proba_0': predictions_third[:, 0],\n",
    "    'proba_1': predictions_third[:, 1],\n",
    "}\n",
    "classif_df_third = pd.DataFrame(classif_data_third)"
   ]
  },
  {
   "cell_type": "code",
   "execution_count": 56,
   "id": "19506183",
   "metadata": {},
   "outputs": [
    {
     "data": {
      "text/plain": [
       "classification\n",
       "0    75378\n",
       "1     2554\n",
       "Name: count, dtype: int64"
      ]
     },
     "execution_count": 56,
     "metadata": {},
     "output_type": "execute_result"
    }
   ],
   "source": [
    "classif_df_third['classification'].value_counts()"
   ]
  },
  {
   "cell_type": "code",
   "execution_count": 57,
   "id": "170a085d",
   "metadata": {},
   "outputs": [],
   "source": [
    "X_train_chembl_third, X_test_chembl_third, y_train_chembl_third, y_test_chembl_third = train_test_split(\n",
    "    classified_df_second_modified.drop(columns=['class']), classified_df_second_modified['class'], test_size=0.20,\n",
    "    random_state=42, stratify=classified_df_second_modified['class'])\n",
    "X_test_chembl_third_ = pd.concat([X_test_chembl_third, y_test_chembl_third], axis=1)[\n",
    "    pd.concat([X_test_chembl_third, y_test_chembl_third], axis=1)['pubmed_id'].isin(chembl_32['pubmed_id'])]\n",
    "\n",
    "pd.concat([classif_df_third[classif_df_third['classification'] == 0][classif_df_third['class'] != 0]['pubmed_id'],\n",
    "           X_test_chembl_third_[X_test_chembl_third_['class'] == 0]['pubmed_id']], axis=0).sample(n=50,\n",
    "                                                                                                  random_state=42).to_csv(\n",
    "    'cs_50_third_30_10.csv', index=False)\n",
    "pd.concat([classif_df_third[classif_df_third['classification'] == 1][classif_df_third['class'] != 1]['pubmed_id'],\n",
    "           X_test_chembl_third_[X_test_chembl_third_['class'] == 1]['pubmed_id']], axis=0).sample(n=50,\n",
    "                                                                                                  random_state=42).to_csv(\n",
    "    'review_50_third_30_10.csv', index=False)"
   ]
  },
  {
   "cell_type": "code",
   "execution_count": 58,
   "id": "39a530c7",
   "metadata": {},
   "outputs": [
    {
     "data": {
      "image/png": "[encoded data removed]",
      "text/plain": [
       "<Figure size 1000x700 with 2 Axes>"
      ]
     },
     "metadata": {},
     "output_type": "display_data"
    }
   ],
   "source": [
    "matrix = confusion_matrix(y_test_pubmed_second_modified,\n",
    "                          model_third.predict(X_test_pubmed_second_modified.astype(np.float64)))\n",
    "matrix = matrix.astype('float') / matrix.sum(axis=1)[:, np.newaxis]\n",
    "\n",
    "plt.figure(figsize=(10, 7))\n",
    "sns.set(font_scale=1.5)\n",
    "sns.heatmap(matrix, annot=True, annot_kws={'size': 25},\n",
    "            cmap=plt.cm.Blues, linewidths=0.2)\n",
    "\n",
    "class_names = ['Other type', 'Review']\n",
    "tick_marks = np.arange(len(class_names))\n",
    "tick_marks2 = tick_marks + 0.5\n",
    "plt.xticks(tick_marks2, class_names, rotation=0)\n",
    "plt.yticks(tick_marks2, class_names, rotation=0)\n",
    "plt.xlabel('Predicted')\n",
    "plt.ylabel('Actual')\n",
    "plt.show()"
   ]
  },
  {
   "cell_type": "code",
   "execution_count": 59,
   "id": "2282c2fa",
   "metadata": {
    "scrolled": true
   },
   "outputs": [
    {
     "data": {
      "image/png": "[encoded data removed]",
      "text/plain": [
       "<Figure size 640x480 with 1 Axes>"
      ]
     },
     "metadata": {},
     "output_type": "display_data"
    }
   ],
   "source": [
    "y_pred = model_third.predict_proba(X_test_pubmed_second_modified.astype(np.float64))[:, 1]\n",
    "fpr, tpr, thresholds = roc_curve(y_test_pubmed_second_modified, y_pred)\n",
    "auc_score = auc(fpr, tpr)\n",
    "\n",
    "plt.figure()\n",
    "plt.plot(fpr, tpr, label='ROC curve (AUC = %0.3f)' % auc_score, color='grey')\n",
    "plt.title('ROC curve')\n",
    "plt.xlabel('False Positive Rate')\n",
    "plt.ylabel('True Positive Rate')\n",
    "plt.grid(True)\n",
    "plt.show()"
   ]
  },
  {
   "cell_type": "code",
   "execution_count": 60,
   "id": "cff788e0",
   "metadata": {},
   "outputs": [],
   "source": [
    "sample_cs_third = pd.concat(\n",
    "    [classif_df_third[classif_df_third['classification'] == 0][classif_df_third['class'] != 0]['pubmed_id'],\n",
    "     X_test_chembl_third_[X_test_chembl_third_['class'] == 0]['pubmed_id']], axis=0).sample(n=50, random_state=42)\n",
    "sample_review_third = pd.concat(\n",
    "    [classif_df_third[classif_df_third['classification'] == 1][classif_df_third['class'] != 1]['pubmed_id'],\n",
    "     X_test_chembl_third_[X_test_chembl_third_['class'] == 1]['pubmed_id']], axis=0).sample(n=50, random_state=42)\n",
    "third_curation = pd.concat([pd.DataFrame(sample_cs_third), pd.DataFrame(sample_review_third)], axis=0).reset_index(\n",
    "    drop=True)\n",
    "third_curation['class'] = np.array([0] * 100)\n",
    "\n",
    "review_curation_third = [25782745, 28285913, 31638805, 22268494, 32738989, 21650152, 21707083, 19239229, 27766140,\n",
    "                         33062159, 19702275, 30891128, 12147760, 24707857, 34046632, 31913033, 1812209]\n",
    "third_curation.loc[third_curation['pubmed_id'].isin(review_curation_third), 'class'] = 1\n",
    "third_curation_modification = pd.merge(third_curation, chembl_32_toclass.drop(columns=['class']), how='left')"
   ]
  },
  {
   "cell_type": "markdown",
   "id": "187ec67d",
   "metadata": {},
   "source": [
    "# Third OOD detection"
   ]
  },
  {
   "cell_type": "code",
   "execution_count": 61,
   "id": "30bf6836",
   "metadata": {},
   "outputs": [],
   "source": [
    "unclassified_df_core_j_third = unclassified_df_core_j_second[\n",
    "    ~unclassified_df_core_j_second['pubmed_id'].isin(ood_data_second['pubmed_id'])]\n",
    "cov_third = EmpiricalCovariance().fit(\n",
    "    classified_df_second_modified.drop(columns=['pubmed_id', 'class']).dropna().astype(np.float64))\n",
    "cov_matrix_third = cov_third.covariance_\n",
    "inv_cov_matrix_third = np.linalg.inv(cov_matrix_third)\n",
    "mean_third = np.mean(classified_df_second_modified.drop(columns=['pubmed_id', 'class']).dropna().astype(np.float64),\n",
    "                     axis=0)\n",
    "\n",
    "distances_third = [mahalanobis_distance(x, mean_third, inv_cov_matrix_third) for x in\n",
    "                   unclassified_df_core_j_third.drop(columns=['pubmed_id', 'class']).dropna().astype(np.float64).values]\n",
    "\n",
    "threshold_third = np.percentile(distances_third, 90)\n",
    "ood_indices_third = [i for i, d in enumerate(distances_third) if d > threshold_third]\n",
    "ood_data_third = unclassified_df_core_j_third.drop(columns=['class']).dropna().astype(np.float64).iloc[\n",
    "    ood_indices_third]"
   ]
  },
  {
   "cell_type": "code",
   "execution_count": 62,
   "id": "a2bdebdc",
   "metadata": {},
   "outputs": [],
   "source": [
    "research_supports_ood_third = pd.merge(ood_data_third, all_pubtypes, how='left')[\n",
    "    pd.merge(ood_data_third, all_pubtypes, how='left').iloc[:, -5:].apply(lambda row: contains_only_labels(row, labels),\n",
    "                                                                          axis=1)].dropna(\n",
    "    subset=['class 1', 'class 2']).reset_index(drop=True)"
   ]
  },
  {
   "cell_type": "markdown",
   "id": "77a12b27",
   "metadata": {},
   "source": [
    "# Third manual curation of research supports "
   ]
  },
  {
   "cell_type": "code",
   "execution_count": 63,
   "id": "9b7d8960",
   "metadata": {},
   "outputs": [],
   "source": [
    "pd.merge(research_supports_ood_third, classif_df_third, how='left')[\n",
    "    pd.merge(research_supports_ood_third, classif_df_third, how='left')['classification'] == 1]['pubmed_id'].to_csv(\n",
    "    'third_review_check_30_10.csv', index=False)\n",
    "pd.merge(research_supports_ood_third, classif_df_third, how='left')[\n",
    "    pd.merge(research_supports_ood_third, classif_df_third, how='left')['classification'] == 0]['pubmed_id'].sample(\n",
    "    n=50, random_state=50).to_csv('third_50_cs_check_28_10.csv', index=False)"
   ]
  },
  {
   "cell_type": "markdown",
   "id": "4a796849",
   "metadata": {},
   "source": [
    "# Third adding data to the dataset and training the model"
   ]
  },
  {
   "cell_type": "code",
   "execution_count": 64,
   "id": "d436ac61",
   "metadata": {},
   "outputs": [],
   "source": [
    "classified_df_third_modified = pd.concat([classified_df_second_modified, research_supports_ood_third.iloc[:, :-5],\n",
    "                                          third_curation_modification.drop(columns=['document_chembl_id'])],\n",
    "                                         axis=0).drop_duplicates(subset='pubmed_id').reset_index(drop=True)\n",
    "classified_df_third_modified['class'].fillna(0, inplace=True)\n",
    "\n",
    "review_supports_third = [17643302]\n",
    "classified_df_third_modified.loc[classified_df_third_modified['pubmed_id'].isin(review_supports_third), 'class'] = 1"
   ]
  },
  {
   "cell_type": "code",
   "execution_count": 65,
   "id": "4ed3d16c",
   "metadata": {},
   "outputs": [
    {
     "name": "stdout",
     "output_type": "stream",
     "text": [
      "Fitting 5 folds for each of 10 candidates, totalling 50 fits\n",
      "[CV 1/5; 1/10] START learning_rate=0.09488104355159124, max_depth=9, n_estimators=140, subsample=0.4914805817366358\n",
      "[CV 1/5; 1/10] END learning_rate=0.09488104355159124, max_depth=9, n_estimators=140, subsample=0.4914805817366358;, score=0.974 total time=  14.5s\n",
      "[CV 2/5; 1/10] START learning_rate=0.09488104355159124, max_depth=9, n_estimators=140, subsample=0.4914805817366358\n",
      "[CV 2/5; 1/10] END learning_rate=0.09488104355159124, max_depth=9, n_estimators=140, subsample=0.4914805817366358;, score=0.957 total time=  13.8s\n",
      "[CV 3/5; 1/10] START learning_rate=0.09488104355159124, max_depth=9, n_estimators=140, subsample=0.4914805817366358\n",
      "[CV 3/5; 1/10] END learning_rate=0.09488104355159124, max_depth=9, n_estimators=140, subsample=0.4914805817366358;, score=0.961 total time=  14.3s\n",
      "[CV 4/5; 1/10] START learning_rate=0.09488104355159124, max_depth=9, n_estimators=140, subsample=0.4914805817366358\n",
      "[CV 4/5; 1/10] END learning_rate=0.09488104355159124, max_depth=9, n_estimators=140, subsample=0.4914805817366358;, score=0.973 total time=  14.5s\n",
      "[CV 5/5; 1/10] START learning_rate=0.09488104355159124, max_depth=9, n_estimators=140, subsample=0.4914805817366358\n",
      "[CV 5/5; 1/10] END learning_rate=0.09488104355159124, max_depth=9, n_estimators=140, subsample=0.4914805817366358;, score=0.951 total time=  13.7s\n",
      "[CV 1/5; 2/10] START learning_rate=0.04235857329106627, max_depth=6, n_estimators=192, subsample=0.5714046413650793\n",
      "[CV 1/5; 2/10] END learning_rate=0.04235857329106627, max_depth=6, n_estimators=192, subsample=0.5714046413650793;, score=0.972 total time=  17.2s\n",
      "[CV 2/5; 2/10] START learning_rate=0.04235857329106627, max_depth=6, n_estimators=192, subsample=0.5714046413650793\n",
      "[CV 2/5; 2/10] END learning_rate=0.04235857329106627, max_depth=6, n_estimators=192, subsample=0.5714046413650793;, score=0.956 total time=  16.9s\n",
      "[CV 3/5; 2/10] START learning_rate=0.04235857329106627, max_depth=6, n_estimators=192, subsample=0.5714046413650793\n",
      "[CV 3/5; 2/10] END learning_rate=0.04235857329106627, max_depth=6, n_estimators=192, subsample=0.5714046413650793;, score=0.961 total time=  17.1s\n",
      "[CV 4/5; 2/10] START learning_rate=0.04235857329106627, max_depth=6, n_estimators=192, subsample=0.5714046413650793\n",
      "[CV 4/5; 2/10] END learning_rate=0.04235857329106627, max_depth=6, n_estimators=192, subsample=0.5714046413650793;, score=0.975 total time=  16.9s\n",
      "[CV 5/5; 2/10] START learning_rate=0.04235857329106627, max_depth=6, n_estimators=192, subsample=0.5714046413650793\n",
      "[CV 5/5; 2/10] END learning_rate=0.04235857329106627, max_depth=6, n_estimators=192, subsample=0.5714046413650793;, score=0.955 total time=  19.6s\n",
      "[CV 1/5; 3/10] START learning_rate=0.06325446891999127, max_depth=6, n_estimators=73, subsample=0.9044474588644369\n",
      "[CV 1/5; 3/10] END learning_rate=0.06325446891999127, max_depth=6, n_estimators=73, subsample=0.9044474588644369;, score=0.968 total time=   8.1s\n",
      "[CV 2/5; 3/10] START learning_rate=0.06325446891999127, max_depth=6, n_estimators=73, subsample=0.9044474588644369\n",
      "[CV 2/5; 3/10] END learning_rate=0.06325446891999127, max_depth=6, n_estimators=73, subsample=0.9044474588644369;, score=0.950 total time=   8.6s\n",
      "[CV 3/5; 3/10] START learning_rate=0.06325446891999127, max_depth=6, n_estimators=73, subsample=0.9044474588644369\n",
      "[CV 3/5; 3/10] END learning_rate=0.06325446891999127, max_depth=6, n_estimators=73, subsample=0.9044474588644369;, score=0.959 total time=   8.2s\n",
      "[CV 4/5; 3/10] START learning_rate=0.06325446891999127, max_depth=6, n_estimators=73, subsample=0.9044474588644369\n",
      "[CV 4/5; 3/10] END learning_rate=0.06325446891999127, max_depth=6, n_estimators=73, subsample=0.9044474588644369;, score=0.967 total time=   8.3s\n",
      "[CV 5/5; 3/10] START learning_rate=0.06325446891999127, max_depth=6, n_estimators=73, subsample=0.9044474588644369\n",
      "[CV 5/5; 3/10] END learning_rate=0.06325446891999127, max_depth=6, n_estimators=73, subsample=0.9044474588644369;, score=0.954 total time=   7.9s\n",
      "[CV 1/5; 4/10] START learning_rate=0.023653886271631275, max_depth=3, n_estimators=84, subsample=0.7350654642547771\n",
      "[CV 1/5; 4/10] END learning_rate=0.023653886271631275, max_depth=3, n_estimators=84, subsample=0.7350654642547771;, score=0.928 total time=   5.4s\n",
      "[CV 2/5; 4/10] START learning_rate=0.023653886271631275, max_depth=3, n_estimators=84, subsample=0.7350654642547771\n",
      "[CV 2/5; 4/10] END learning_rate=0.023653886271631275, max_depth=3, n_estimators=84, subsample=0.7350654642547771;, score=0.912 total time=   4.7s\n",
      "[CV 3/5; 4/10] START learning_rate=0.023653886271631275, max_depth=3, n_estimators=84, subsample=0.7350654642547771\n",
      "[CV 3/5; 4/10] END learning_rate=0.023653886271631275, max_depth=3, n_estimators=84, subsample=0.7350654642547771;, score=0.912 total time=   4.3s\n",
      "[CV 4/5; 4/10] START learning_rate=0.023653886271631275, max_depth=3, n_estimators=84, subsample=0.7350654642547771\n",
      "[CV 4/5; 4/10] END learning_rate=0.023653886271631275, max_depth=3, n_estimators=84, subsample=0.7350654642547771;, score=0.926 total time=   4.7s\n",
      "[CV 5/5; 4/10] START learning_rate=0.023653886271631275, max_depth=3, n_estimators=84, subsample=0.7350654642547771\n",
      "[CV 5/5; 4/10] END learning_rate=0.023653886271631275, max_depth=3, n_estimators=84, subsample=0.7350654642547771;, score=0.920 total time=   4.4s\n",
      "[CV 1/5; 5/10] START learning_rate=0.030960570298013593, max_depth=4, n_estimators=136, subsample=0.449822812983254\n",
      "[CV 1/5; 5/10] END learning_rate=0.030960570298013593, max_depth=4, n_estimators=136, subsample=0.449822812983254;, score=0.969 total time=   8.3s\n",
      "[CV 2/5; 5/10] START learning_rate=0.030960570298013593, max_depth=4, n_estimators=136, subsample=0.449822812983254\n",
      "[CV 2/5; 5/10] END learning_rate=0.030960570298013593, max_depth=4, n_estimators=136, subsample=0.449822812983254;, score=0.954 total time=   8.4s\n",
      "[CV 3/5; 5/10] START learning_rate=0.030960570298013593, max_depth=4, n_estimators=136, subsample=0.449822812983254\n",
      "[CV 3/5; 5/10] END learning_rate=0.030960570298013593, max_depth=4, n_estimators=136, subsample=0.449822812983254;, score=0.952 total time=   8.6s\n",
      "[CV 4/5; 5/10] START learning_rate=0.030960570298013593, max_depth=4, n_estimators=136, subsample=0.449822812983254\n",
      "[CV 4/5; 5/10] END learning_rate=0.030960570298013593, max_depth=4, n_estimators=136, subsample=0.449822812983254;, score=0.971 total time=   8.2s\n",
      "[CV 5/5; 5/10] START learning_rate=0.030960570298013593, max_depth=4, n_estimators=136, subsample=0.449822812983254\n",
      "[CV 5/5; 5/10] END learning_rate=0.030960570298013593, max_depth=4, n_estimators=136, subsample=0.449822812983254;, score=0.950 total time=   8.7s\n",
      "[CV 1/5; 6/10] START learning_rate=0.07176162287869375, max_depth=6, n_estimators=54, subsample=0.8967588971079083\n",
      "[CV 1/5; 6/10] END learning_rate=0.07176162287869375, max_depth=6, n_estimators=54, subsample=0.8967588971079083;, score=0.969 total time=   5.6s\n",
      "[CV 2/5; 6/10] START learning_rate=0.07176162287869375, max_depth=6, n_estimators=54, subsample=0.8967588971079083\n",
      "[CV 2/5; 6/10] END learning_rate=0.07176162287869375, max_depth=6, n_estimators=54, subsample=0.8967588971079083;, score=0.948 total time=   5.5s\n",
      "[CV 3/5; 6/10] START learning_rate=0.07176162287869375, max_depth=6, n_estimators=54, subsample=0.8967588971079083\n",
      "[CV 3/5; 6/10] END learning_rate=0.07176162287869375, max_depth=6, n_estimators=54, subsample=0.8967588971079083;, score=0.952 total time=   5.6s\n",
      "[CV 4/5; 6/10] START learning_rate=0.07176162287869375, max_depth=6, n_estimators=54, subsample=0.8967588971079083\n",
      "[CV 4/5; 6/10] END learning_rate=0.07176162287869375, max_depth=6, n_estimators=54, subsample=0.8967588971079083;, score=0.969 total time=   5.7s\n",
      "[CV 5/5; 6/10] START learning_rate=0.07176162287869375, max_depth=6, n_estimators=54, subsample=0.8967588971079083\n",
      "[CV 5/5; 6/10] END learning_rate=0.07176162287869375, max_depth=6, n_estimators=54, subsample=0.8967588971079083;, score=0.949 total time=   6.9s\n",
      "[CV 1/5; 7/10] START learning_rate=0.035128064942596474, max_depth=4, n_estimators=133, subsample=0.31235282288373467\n",
      "[CV 1/5; 7/10] END learning_rate=0.035128064942596474, max_depth=4, n_estimators=133, subsample=0.31235282288373467;, score=0.967 total time=   8.7s\n",
      "[CV 2/5; 7/10] START learning_rate=0.035128064942596474, max_depth=4, n_estimators=133, subsample=0.31235282288373467\n"
     ]
    },
    {
     "name": "stdout",
     "output_type": "stream",
     "text": [
      "[CV 2/5; 7/10] END learning_rate=0.035128064942596474, max_depth=4, n_estimators=133, subsample=0.31235282288373467;, score=0.955 total time=   9.0s\n",
      "[CV 3/5; 7/10] START learning_rate=0.035128064942596474, max_depth=4, n_estimators=133, subsample=0.31235282288373467\n",
      "[CV 3/5; 7/10] END learning_rate=0.035128064942596474, max_depth=4, n_estimators=133, subsample=0.31235282288373467;, score=0.956 total time=   8.5s\n",
      "[CV 4/5; 7/10] START learning_rate=0.035128064942596474, max_depth=4, n_estimators=133, subsample=0.31235282288373467\n",
      "[CV 4/5; 7/10] END learning_rate=0.035128064942596474, max_depth=4, n_estimators=133, subsample=0.31235282288373467;, score=0.970 total time=   8.5s\n",
      "[CV 5/5; 7/10] START learning_rate=0.035128064942596474, max_depth=4, n_estimators=133, subsample=0.31235282288373467\n",
      "[CV 5/5; 7/10] END learning_rate=0.035128064942596474, max_depth=4, n_estimators=133, subsample=0.31235282288373467;, score=0.950 total time=   8.9s\n",
      "[CV 1/5; 8/10] START learning_rate=0.0038692483485672996, max_depth=9, n_estimators=170, subsample=0.6454629903827166\n",
      "[CV 1/5; 8/10] END learning_rate=0.0038692483485672996, max_depth=9, n_estimators=170, subsample=0.6454629903827166;, score=0.930 total time=  21.1s\n",
      "[CV 2/5; 8/10] START learning_rate=0.0038692483485672996, max_depth=9, n_estimators=170, subsample=0.6454629903827166\n",
      "[CV 2/5; 8/10] END learning_rate=0.0038692483485672996, max_depth=9, n_estimators=170, subsample=0.6454629903827166;, score=0.928 total time=  21.7s\n",
      "[CV 3/5; 8/10] START learning_rate=0.0038692483485672996, max_depth=9, n_estimators=170, subsample=0.6454629903827166\n",
      "[CV 3/5; 8/10] END learning_rate=0.0038692483485672996, max_depth=9, n_estimators=170, subsample=0.6454629903827166;, score=0.926 total time=  20.8s\n",
      "[CV 4/5; 8/10] START learning_rate=0.0038692483485672996, max_depth=9, n_estimators=170, subsample=0.6454629903827166\n",
      "[CV 4/5; 8/10] END learning_rate=0.0038692483485672996, max_depth=9, n_estimators=170, subsample=0.6454629903827166;, score=0.940 total time=  20.8s\n",
      "[CV 5/5; 8/10] START learning_rate=0.0038692483485672996, max_depth=9, n_estimators=170, subsample=0.6454629903827166\n",
      "[CV 5/5; 8/10] END learning_rate=0.0038692483485672996, max_depth=9, n_estimators=170, subsample=0.6454629903827166;, score=0.923 total time=  20.5s\n",
      "[CV 1/5; 9/10] START learning_rate=0.07683220574286953, max_depth=5, n_estimators=98, subsample=0.49267367903893455\n",
      "[CV 1/5; 9/10] END learning_rate=0.07683220574286953, max_depth=5, n_estimators=98, subsample=0.49267367903893455;, score=0.975 total time=   7.7s\n",
      "[CV 2/5; 9/10] START learning_rate=0.07683220574286953, max_depth=5, n_estimators=98, subsample=0.49267367903893455\n",
      "[CV 2/5; 9/10] END learning_rate=0.07683220574286953, max_depth=5, n_estimators=98, subsample=0.49267367903893455;, score=0.954 total time=   7.9s\n",
      "[CV 3/5; 9/10] START learning_rate=0.07683220574286953, max_depth=5, n_estimators=98, subsample=0.49267367903893455\n",
      "[CV 3/5; 9/10] END learning_rate=0.07683220574286953, max_depth=5, n_estimators=98, subsample=0.49267367903893455;, score=0.962 total time=   8.1s\n",
      "[CV 4/5; 9/10] START learning_rate=0.07683220574286953, max_depth=5, n_estimators=98, subsample=0.49267367903893455\n",
      "[CV 4/5; 9/10] END learning_rate=0.07683220574286953, max_depth=5, n_estimators=98, subsample=0.49267367903893455;, score=0.976 total time=   7.7s\n",
      "[CV 5/5; 9/10] START learning_rate=0.07683220574286953, max_depth=5, n_estimators=98, subsample=0.49267367903893455\n",
      "[CV 5/5; 9/10] END learning_rate=0.07683220574286953, max_depth=5, n_estimators=98, subsample=0.49267367903893455;, score=0.959 total time=   7.5s\n",
      "[CV 1/5; 10/10] START learning_rate=0.07625875317289403, max_depth=7, n_estimators=183, subsample=0.8792542161451518\n",
      "[CV 1/5; 10/10] END learning_rate=0.07625875317289403, max_depth=7, n_estimators=183, subsample=0.8792542161451518;, score=0.975 total time=  18.1s\n",
      "[CV 2/5; 10/10] START learning_rate=0.07625875317289403, max_depth=7, n_estimators=183, subsample=0.8792542161451518\n",
      "[CV 2/5; 10/10] END learning_rate=0.07625875317289403, max_depth=7, n_estimators=183, subsample=0.8792542161451518;, score=0.958 total time=  18.0s\n",
      "[CV 3/5; 10/10] START learning_rate=0.07625875317289403, max_depth=7, n_estimators=183, subsample=0.8792542161451518\n",
      "[CV 3/5; 10/10] END learning_rate=0.07625875317289403, max_depth=7, n_estimators=183, subsample=0.8792542161451518;, score=0.966 total time=  17.6s\n",
      "[CV 4/5; 10/10] START learning_rate=0.07625875317289403, max_depth=7, n_estimators=183, subsample=0.8792542161451518\n",
      "[CV 4/5; 10/10] END learning_rate=0.07625875317289403, max_depth=7, n_estimators=183, subsample=0.8792542161451518;, score=0.973 total time=  18.3s\n",
      "[CV 5/5; 10/10] START learning_rate=0.07625875317289403, max_depth=7, n_estimators=183, subsample=0.8792542161451518\n",
      "[CV 5/5; 10/10] END learning_rate=0.07625875317289403, max_depth=7, n_estimators=183, subsample=0.8792542161451518;, score=0.961 total time=  17.7s\n",
      "Best set of hyperparameters:  {'learning_rate': 0.07625875317289403, 'max_depth': 7, 'n_estimators': 183, 'subsample': 0.8792542161451518}\n",
      "Best score:  0.9668022777871952\n"
     ]
    }
   ],
   "source": [
    "X_train_pubmed_third_modified, X_test_pubmed_third_modified, y_train_pubmed_third_modified, y_test_pubmed_third_modified = train_test_split(\n",
    "    classified_df_third_modified.drop(columns=['class', 'pubmed_id']), classified_df_third_modified['class'],\n",
    "    test_size=0.2, random_state=42, stratify=classified_df_third_modified['class'])\n",
    "\n",
    "model = xgb.XGBClassifier()\n",
    "np.random.seed(3842)\n",
    "\n",
    "param_grid = {\n",
    "    'max_depth': stats.randint(3, 10),\n",
    "    'learning_rate': stats.uniform(0.001, 0.1),\n",
    "    'subsample': stats.uniform(0.3, 0.7),\n",
    "    'n_estimators': stats.randint(50, 200)\n",
    "}\n",
    "\n",
    "random_search_pubmed_third_modified = RandomizedSearchCV(model, param_grid, cv=5, n_iter=10, random_state=3842,\n",
    "                                                         scoring='f1', verbose=10)\n",
    "random_search_pubmed_third_modified.fit(X_train_pubmed_third_modified.astype(np.float64), y_train_pubmed_third_modified)\n",
    "\n",
    "print(\"Best set of hyperparameters: \", random_search_pubmed_third_modified.best_params_)\n",
    "print(\"Best score: \", random_search_pubmed_third_modified.best_score_)"
   ]
  },
  {
   "cell_type": "code",
   "execution_count": 66,
   "id": "ad0f3405",
   "metadata": {},
   "outputs": [
    {
     "name": "stdout",
     "output_type": "stream",
     "text": [
      "0.9676945668135095\n",
      "0.9786096256684492\n",
      "0.9791976225854383\n",
      "0.9564586357039188\n",
      "[[1354   14]\n",
      " [  30  659]]\n"
     ]
    }
   ],
   "source": [
    "model_fourth = xgb.XGBClassifier(learning_rate=0.07625875317289403, max_depth=7, n_estimators=183,\n",
    "                                 subsample=0.8792542161451518)\n",
    "model_fourth.fit(X_train_pubmed_third_modified.astype(np.float64), y_train_pubmed_third_modified)\n",
    "\n",
    "print(f1_score(y_test_pubmed_third_modified, model_fourth.predict(X_test_pubmed_third_modified.astype(np.float64))))\n",
    "print(accuracy_score(y_test_pubmed_third_modified, model_fourth.predict(X_test_pubmed_third_modified.astype(np.float64))))\n",
    "print(precision_score(y_test_pubmed_third_modified, model_fourth.predict(X_test_pubmed_third_modified.astype(np.float64))))\n",
    "print(recall_score(y_test_pubmed_third_modified, model_fourth.predict(X_test_pubmed_third_modified.astype(np.float64))))\n",
    "print(confusion_matrix(y_test_pubmed_third_modified, model_fourth.predict(X_test_pubmed_third_modified.astype(np.float64))))"
   ]
  },
  {
   "cell_type": "code",
   "execution_count": 67,
   "id": "2832813e",
   "metadata": {},
   "outputs": [
    {
     "data": {
      "text/plain": [
       "classification\n",
       "0    75708\n",
       "1     2224\n",
       "Name: count, dtype: int64"
      ]
     },
     "execution_count": 67,
     "metadata": {},
     "output_type": "execute_result"
    }
   ],
   "source": [
    "classification_fourth = model_fourth.predict(\n",
    "    chembl_32_toclass.drop(columns=['pubmed_id', 'document_chembl_id', 'class']).astype(np.float64))\n",
    "predictions_fourth = model_fourth.predict_proba(\n",
    "    chembl_32_toclass.drop(columns=['pubmed_id', 'document_chembl_id', 'class']).astype(np.float64))\n",
    "classif_data_fourth = {\n",
    "    'pubmed_id': chembl_32_toclass['pubmed_id'],\n",
    "    'document_chembl_id': chembl_32_toclass['document_chembl_id'],\n",
    "    'class': chembl_32_toclass['class'],\n",
    "    'classification': classification_fourth,\n",
    "    'proba_0': predictions_fourth[:, 0],\n",
    "    'proba_1': predictions_fourth[:, 1],\n",
    "}\n",
    "classif_df_fourth = pd.DataFrame(classif_data_fourth)\n",
    "classif_df_fourth['classification'].value_counts()"
   ]
  },
  {
   "cell_type": "code",
   "execution_count": 68,
   "id": "2419d606",
   "metadata": {},
   "outputs": [],
   "source": [
    "X_train_chembl_fourth, X_test_chembl_fourth, y_train_chembl_fourth, y_test_chembl_fourth = train_test_split(\n",
    "    classified_df_third_modified.drop(columns=['class']), classified_df_third_modified['class'], test_size=0.20,\n",
    "    random_state=42, stratify=classified_df_third_modified['class'])\n",
    "X_test_chembl_fourth_ = pd.concat([X_test_chembl_fourth, y_test_chembl_fourth], axis=1)[\n",
    "    pd.concat([X_test_chembl_fourth, y_test_chembl_fourth], axis=1)['pubmed_id'].isin(chembl_32['pubmed_id'])]\n",
    "\n",
    "pd.concat([classif_df_fourth[classif_df_fourth['classification'] == 0][classif_df_fourth['class'] != 0]['pubmed_id'],\n",
    "           X_test_chembl_fourth_[X_test_chembl_fourth_['class'] == 0]['pubmed_id']], axis=0).sample(n=50,\n",
    "                                                                                                    random_state=42).to_csv(\n",
    "    'cs_50_fourth_30_10.csv', index=False)\n",
    "pd.concat([classif_df_fourth[classif_df_fourth['classification'] == 1][classif_df_fourth['class'] != 1]['pubmed_id'],\n",
    "           X_test_chembl_fourth_[X_test_chembl_fourth_['class'] == 1]['pubmed_id']], axis=0).sample(n=50,\n",
    "                                                                                                    random_state=42).to_csv(\n",
    "    'review_50_fourth_30_10.csv', index=False)"
   ]
  },
  {
   "cell_type": "code",
   "execution_count": 69,
   "id": "22dc758f",
   "metadata": {},
   "outputs": [],
   "source": [
    "classif_df_previous.to_csv('classif_df_previous_30_10.csv', index=False)\n",
    "classif_df_second.to_csv('classif_df_second_30_10.csv', index=False)\n",
    "classif_df_third.to_csv('classif_df_third_30_10.csv', index=False)\n",
    "classif_df_fourth.to_csv('classif_df_fourth_30_10.csv', index=False)"
   ]
  }
 ],
 "metadata": {
  "kernelspec": {
   "display_name": "Python 3 (ipykernel)",
   "language": "python",
   "name": "python3"
  },
  "language_info": {
   "codemirror_mode": {
    "name": "ipython",
    "version": 3
   },
   "file_extension": ".py",
   "mimetype": "text/x-python",
   "name": "python",
   "nbconvert_exporter": "python",
   "pygments_lexer": "ipython3",
   "version": "3.9.7"
  }
 },
 "nbformat": 4,
 "nbformat_minor": 5
}
