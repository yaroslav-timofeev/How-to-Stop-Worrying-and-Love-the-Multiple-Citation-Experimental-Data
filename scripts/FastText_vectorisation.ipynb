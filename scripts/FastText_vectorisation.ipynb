{
 "cells": [
  {
   "cell_type": "code",
   "execution_count": 1,
   "metadata": {
    "colab": {
     "base_uri": "https://localhost:8080/"
    },
    "id": "SwMhFtSLVY2A",
    "outputId": "f95a49a0-008f-416b-9633-7c62ae8b0a39"
   },
   "outputs": [
    {
     "name": "stdout",
     "output_type": "stream",
     "text": [
      "Requirement already satisfied: fasttext in /usr/local/lib/python3.10/dist-packages (0.9.3)\n",
      "Requirement already satisfied: pybind11>=2.2 in /usr/local/lib/python3.10/dist-packages (from fasttext) (2.13.6)\n",
      "Requirement already satisfied: setuptools>=0.7.0 in /usr/local/lib/python3.10/dist-packages (from fasttext) (75.1.0)\n",
      "Requirement already satisfied: numpy in /usr/local/lib/python3.10/dist-packages (from fasttext) (1.26.4)\n"
     ]
    }
   ],
   "source": [
    "!pip install fasttext"
   ]
  },
  {
   "cell_type": "code",
   "execution_count": 2,
   "metadata": {
    "id": "8yPnU4idV4OL"
   },
   "outputs": [],
   "source": [
    "import fasttext\n",
    "import pandas as pd\n",
    "import numpy as np\n",
    "from sklearn.model_selection import train_test_split"
   ]
  },
  {
   "cell_type": "code",
   "execution_count": 3,
   "metadata": {
    "colab": {
     "base_uri": "https://localhost:8080/"
    },
    "id": "7R4lsgMUwnlj",
    "outputId": "be3b5ad1-8026-4cef-bbe2-3cfd8b0cb2f6"
   },
   "outputs": [
    {
     "data": {
      "text/plain": [
       "device(type='cuda')"
      ]
     },
     "execution_count": 3,
     "metadata": {},
     "output_type": "execute_result"
    }
   ],
   "source": [
    "import torch\n",
    "device = torch.device('cuda' if torch.cuda.is_available() else 'cpu')\n",
    "device"
   ]
  },
  {
   "cell_type": "code",
   "execution_count": 4,
   "metadata": {
    "id": "8ztkqlaNsIE4"
   },
   "outputs": [],
   "source": [
    "train_val_test = pd.read_csv('processed_abs_train.csv', sep=',')\n",
    "classification = pd.read_csv('classification_Medline.csv', sep=',')"
   ]
  },
  {
   "cell_type": "code",
   "execution_count": 5,
   "metadata": {
    "id": "2Ain8EwutH-s"
   },
   "outputs": [],
   "source": [
    "X_train_val, X_test, y_train_val, y_test = train_test_split(train_val_test, classification, test_size=0.15, random_state=42, stratify=classification)\n",
    "X_train, X_val, y_train, y_val = train_test_split(X_train_val, y_train_val, test_size=0.17647, random_state=42, stratify=y_train_val)"
   ]
  },
  {
   "cell_type": "code",
   "execution_count": 6,
   "metadata": {
    "id": "LKFnfgF9t3n6"
   },
   "outputs": [],
   "source": [
    "X_train.to_csv('train.train', index=False, header=False)\n",
    "X_test.to_csv('test.test', index=False, header=False)\n",
    "X_val.to_csv('val.val', index=False, header=False)"
   ]
  },
  {
   "cell_type": "code",
   "execution_count": 7,
   "metadata": {
    "colab": {
     "base_uri": "https://localhost:8080/"
    },
    "id": "e3IkyKe1WCRW",
    "outputId": "c1a0d819-8137-45dd-ef47-fa2e17b4d505"
   },
   "outputs": [
    {
     "name": "stdout",
     "output_type": "stream",
     "text": [
      "Train embeddings shape: (6072, 700)\n",
      "Validation embeddings shape: (1302, 700)\n",
      "Test embeddings shape: (1302, 700)\n"
     ]
    }
   ],
   "source": [
    "model = fasttext.train_unsupervised('train.train', model='skipgram', dim=700, epoch=10, wordNgrams = 3, lr = 0.03)\n",
    "\n",
    "def get_embeddings(model, data_file):\n",
    "    embeddings = []\n",
    "    with open(data_file, 'r', encoding='utf-8') as f:\n",
    "        for line in f:\n",
    "            words = line.strip().split()\n",
    "            word_embeddings = [model.get_word_vector(word) for word in words]\n",
    "            embeddings.append(np.mean(word_embeddings, axis=0))\n",
    "    return np.array(embeddings)\n",
    "\n",
    "train_embeddings = get_embeddings(model, 'train.train')\n",
    "val_embeddings = get_embeddings(model, 'val.val')\n",
    "test_embeddings = get_embeddings(model, 'test.test')\n",
    "\n",
    "print(\"Train embeddings shape:\", train_embeddings.shape)\n",
    "print(\"Validation embeddings shape:\", val_embeddings.shape)\n",
    "print(\"Test embeddings shape:\", test_embeddings.shape)"
   ]
  },
  {
   "cell_type": "code",
   "execution_count": 8,
   "metadata": {
    "colab": {
     "base_uri": "https://localhost:8080/"
    },
    "id": "-7DgAZBY3Diw",
    "outputId": "d630d071-d929-41fd-f94c-0ea2e6a493c2"
   },
   "outputs": [
    {
     "name": "stdout",
     "output_type": "stream",
     "text": [
      "              precision    recall  f1-score   support\n",
      "\n",
      "           0       0.94      0.97      0.95       789\n",
      "           1       0.94      0.90      0.92       513\n",
      "\n",
      "    accuracy                           0.94      1302\n",
      "   macro avg       0.94      0.93      0.94      1302\n",
      "weighted avg       0.94      0.94      0.94      1302\n",
      "\n",
      "              precision    recall  f1-score   support\n",
      "\n",
      "           0       0.94      0.94      0.94       789\n",
      "           1       0.90      0.90      0.90       513\n",
      "\n",
      "    accuracy                           0.92      1302\n",
      "   macro avg       0.92      0.92      0.92      1302\n",
      "weighted avg       0.92      0.92      0.92      1302\n",
      "\n"
     ]
    }
   ],
   "source": [
    "import xgboost as xgb\n",
    "from sklearn.metrics import classification_report\n",
    "\n",
    "model = xgb.XGBClassifier()\n",
    "model.fit(pd.DataFrame(train_embeddings), y_train)\n",
    "\n",
    "print(classification_report(y_test, model.predict(pd.DataFrame(test_embeddings))))\n",
    "print(classification_report(y_val, model.predict(pd.DataFrame(val_embeddings))))"
   ]
  },
  {
   "cell_type": "code",
   "execution_count": 9,
   "metadata": {
    "id": "1BpWA0-Z7Gvs"
   },
   "outputs": [],
   "source": [
    "pd.DataFrame(train_embeddings).to_csv('train_embeddings_fasttext.csv', index=False)\n",
    "pd.DataFrame(test_embeddings).to_csv('test_embeddings_fasttext.csv', index=False)\n",
    "pd.DataFrame(val_embeddings).to_csv('val_embeddings_fasttext.csv', index=False)"
   ]
  }
 ],
 "metadata": {
  "accelerator": "GPU",
  "colab": {
   "gpuType": "T4",
   "provenance": []
  },
  "kernelspec": {
   "display_name": "Python 3 (ipykernel)",
   "language": "python",
   "name": "python3"
  },
  "language_info": {
   "codemirror_mode": {
    "name": "ipython",
    "version": 3
   },
   "file_extension": ".py",
   "mimetype": "text/x-python",
   "name": "python",
   "nbconvert_exporter": "python",
   "pygments_lexer": "ipython3",
   "version": "3.9.7"
  }
 },
 "nbformat": 4,
 "nbformat_minor": 1
}
